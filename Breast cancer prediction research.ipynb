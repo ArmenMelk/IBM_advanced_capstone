{
 "cells": [
  {
   "cell_type": "markdown",
   "metadata": {},
   "source": [
    "## Introduction\n",
    "Breast cancer is a prevalent cause of death, and it is the only type of cancer that is widespread among women worldwid. Many imaging techniques have been developed for early detection and treatment of breast cancer and to reduce the number of deaths, and many aided breast cancer diagnosis methods have been used to increase the diagnostic accuracy.\n",
    "\n",
    "In the last few decades, several data mining and machine learning techniques have been developed for breast cancer detection and classification, which can be divided into three main stages: preprocessing, feature extraction, and classification. To facilitate interpretation and analysis, the preprocessing of mammography films helps improve the visibility of peripheral areas and intensity distribution, and several methods have been reported to assist in this process.\n",
    "\n",
    "Feature extraction is an important step in breast cancer detection because it helps discriminate between benign and malignant tumors. After extraction, image properties such as smoothness, coarseness, depth, and regularity are extracted by segmentation"
   ]
  },
  {
   "cell_type": "markdown",
   "metadata": {},
   "source": [
    "## Dataset Used for Research\n",
    "In this work, Breast Cancer dataset was obtained from the UCI Machine Learning Repository. "
   ]
  },
  {
   "cell_type": "markdown",
   "metadata": {},
   "source": [
    "## Preprocessing\n",
    "As a part of this research, processing was performed on the raw breast cancer data to scale the features using the Standard Scaler module. Standardization of datasets is a common requirement for many machine learning estimators. It transforms the attributes to a standard Gaussian distributions based on (xi–mean(x))/stdev(x) where stdev is the standard deviation. The Robust Scaler depends on the interquartile range to transform the features using (xi–Q1(x))/(Q3(x)–Q1(x)), where Q1, Q2, and Q3 represent quartiles. All the transformations used are included in scikit-learn machine learning library"
   ]
  },
  {
   "cell_type": "markdown",
   "metadata": {},
   "source": [
    "## Features Selection\n",
    "Usually, feature selection is applied as a preprocessing step before the actual learning. However, no algorithm can make good predictions without informative and discriminative features; therefore, to keep the most significant features and reduce the size of the dataset, we implemented Kernel PCA."
   ]
  },
  {
   "cell_type": "markdown",
   "metadata": {},
   "source": [
    "## Machine Learning Algorithms\n",
    "For this research I have used KNN, SVM, KSVM, Decission Tree, Random Forest, Logistic Regression, XGBoost algorithms."
   ]
  },
  {
   "cell_type": "code",
   "execution_count": 1,
   "metadata": {},
   "outputs": [],
   "source": [
    "#!conda install scikit-learn\n",
    "#!pip install numpy"
   ]
  },
  {
   "cell_type": "code",
   "execution_count": 67,
   "metadata": {},
   "outputs": [],
   "source": [
    "import pandas as pd\n",
    "import numpy as np\n",
    "import matplotlib.pyplot as plt\n",
    "from sklearn import metrics\n",
    "from sklearn.model_selection import cross_val_score\n",
    "from sklearn.metrics import precision_score\n",
    "from sklearn.metrics import recall_score\n",
    "from sklearn.metrics import f1_score\n",
    "\n",
    "from sklearn.metrics import plot_confusion_matrix\n"
   ]
  },
  {
   "cell_type": "code",
   "execution_count": 68,
   "metadata": {},
   "outputs": [],
   "source": [
    "df =  pd.read_csv(\"https://archive.ics.uci.edu/ml/machine-learning-databases/00451/dataR2.csv\", delimiter=\",\") "
   ]
  },
  {
   "cell_type": "code",
   "execution_count": 69,
   "metadata": {},
   "outputs": [
    {
     "data": {
      "text/html": [
       "<div>\n",
       "<style scoped>\n",
       "    .dataframe tbody tr th:only-of-type {\n",
       "        vertical-align: middle;\n",
       "    }\n",
       "\n",
       "    .dataframe tbody tr th {\n",
       "        vertical-align: top;\n",
       "    }\n",
       "\n",
       "    .dataframe thead th {\n",
       "        text-align: right;\n",
       "    }\n",
       "</style>\n",
       "<table border=\"1\" class=\"dataframe\">\n",
       "  <thead>\n",
       "    <tr style=\"text-align: right;\">\n",
       "      <th></th>\n",
       "      <th>Age</th>\n",
       "      <th>BMI</th>\n",
       "      <th>Glucose</th>\n",
       "      <th>Insulin</th>\n",
       "      <th>HOMA</th>\n",
       "      <th>Leptin</th>\n",
       "      <th>Adiponectin</th>\n",
       "      <th>Resistin</th>\n",
       "      <th>MCP.1</th>\n",
       "      <th>Classification</th>\n",
       "    </tr>\n",
       "  </thead>\n",
       "  <tbody>\n",
       "    <tr>\n",
       "      <th>0</th>\n",
       "      <td>48</td>\n",
       "      <td>23.500000</td>\n",
       "      <td>70</td>\n",
       "      <td>2.707</td>\n",
       "      <td>0.467409</td>\n",
       "      <td>8.8071</td>\n",
       "      <td>9.702400</td>\n",
       "      <td>7.99585</td>\n",
       "      <td>417.114</td>\n",
       "      <td>1</td>\n",
       "    </tr>\n",
       "    <tr>\n",
       "      <th>1</th>\n",
       "      <td>83</td>\n",
       "      <td>20.690495</td>\n",
       "      <td>92</td>\n",
       "      <td>3.115</td>\n",
       "      <td>0.706897</td>\n",
       "      <td>8.8438</td>\n",
       "      <td>5.429285</td>\n",
       "      <td>4.06405</td>\n",
       "      <td>468.786</td>\n",
       "      <td>1</td>\n",
       "    </tr>\n",
       "    <tr>\n",
       "      <th>2</th>\n",
       "      <td>82</td>\n",
       "      <td>23.124670</td>\n",
       "      <td>91</td>\n",
       "      <td>4.498</td>\n",
       "      <td>1.009651</td>\n",
       "      <td>17.9393</td>\n",
       "      <td>22.432040</td>\n",
       "      <td>9.27715</td>\n",
       "      <td>554.697</td>\n",
       "      <td>1</td>\n",
       "    </tr>\n",
       "    <tr>\n",
       "      <th>3</th>\n",
       "      <td>68</td>\n",
       "      <td>21.367521</td>\n",
       "      <td>77</td>\n",
       "      <td>3.226</td>\n",
       "      <td>0.612725</td>\n",
       "      <td>9.8827</td>\n",
       "      <td>7.169560</td>\n",
       "      <td>12.76600</td>\n",
       "      <td>928.220</td>\n",
       "      <td>1</td>\n",
       "    </tr>\n",
       "    <tr>\n",
       "      <th>4</th>\n",
       "      <td>86</td>\n",
       "      <td>21.111111</td>\n",
       "      <td>92</td>\n",
       "      <td>3.549</td>\n",
       "      <td>0.805386</td>\n",
       "      <td>6.6994</td>\n",
       "      <td>4.819240</td>\n",
       "      <td>10.57635</td>\n",
       "      <td>773.920</td>\n",
       "      <td>1</td>\n",
       "    </tr>\n",
       "  </tbody>\n",
       "</table>\n",
       "</div>"
      ],
      "text/plain": [
       "   Age        BMI  Glucose  Insulin      HOMA   Leptin  Adiponectin  Resistin  \\\n",
       "0   48  23.500000       70    2.707  0.467409   8.8071     9.702400   7.99585   \n",
       "1   83  20.690495       92    3.115  0.706897   8.8438     5.429285   4.06405   \n",
       "2   82  23.124670       91    4.498  1.009651  17.9393    22.432040   9.27715   \n",
       "3   68  21.367521       77    3.226  0.612725   9.8827     7.169560  12.76600   \n",
       "4   86  21.111111       92    3.549  0.805386   6.6994     4.819240  10.57635   \n",
       "\n",
       "     MCP.1  Classification  \n",
       "0  417.114               1  \n",
       "1  468.786               1  \n",
       "2  554.697               1  \n",
       "3  928.220               1  \n",
       "4  773.920               1  "
      ]
     },
     "execution_count": 69,
     "metadata": {},
     "output_type": "execute_result"
    }
   ],
   "source": [
    "df.head()"
   ]
  },
  {
   "cell_type": "code",
   "execution_count": 70,
   "metadata": {},
   "outputs": [],
   "source": [
    "X = df.loc[:, df.columns != 'Classification']\n",
    "y = df.loc[:, df.columns == 'Classification']"
   ]
  },
  {
   "cell_type": "code",
   "execution_count": 71,
   "metadata": {},
   "outputs": [
    {
     "data": {
      "text/html": [
       "<div>\n",
       "<style scoped>\n",
       "    .dataframe tbody tr th:only-of-type {\n",
       "        vertical-align: middle;\n",
       "    }\n",
       "\n",
       "    .dataframe tbody tr th {\n",
       "        vertical-align: top;\n",
       "    }\n",
       "\n",
       "    .dataframe thead th {\n",
       "        text-align: right;\n",
       "    }\n",
       "</style>\n",
       "<table border=\"1\" class=\"dataframe\">\n",
       "  <thead>\n",
       "    <tr style=\"text-align: right;\">\n",
       "      <th></th>\n",
       "      <th>Age</th>\n",
       "      <th>BMI</th>\n",
       "      <th>Glucose</th>\n",
       "      <th>Insulin</th>\n",
       "      <th>HOMA</th>\n",
       "      <th>Leptin</th>\n",
       "      <th>Adiponectin</th>\n",
       "      <th>Resistin</th>\n",
       "      <th>MCP.1</th>\n",
       "    </tr>\n",
       "  </thead>\n",
       "  <tbody>\n",
       "    <tr>\n",
       "      <th>0</th>\n",
       "      <td>48</td>\n",
       "      <td>23.500000</td>\n",
       "      <td>70</td>\n",
       "      <td>2.707</td>\n",
       "      <td>0.467409</td>\n",
       "      <td>8.8071</td>\n",
       "      <td>9.702400</td>\n",
       "      <td>7.99585</td>\n",
       "      <td>417.114</td>\n",
       "    </tr>\n",
       "    <tr>\n",
       "      <th>1</th>\n",
       "      <td>83</td>\n",
       "      <td>20.690495</td>\n",
       "      <td>92</td>\n",
       "      <td>3.115</td>\n",
       "      <td>0.706897</td>\n",
       "      <td>8.8438</td>\n",
       "      <td>5.429285</td>\n",
       "      <td>4.06405</td>\n",
       "      <td>468.786</td>\n",
       "    </tr>\n",
       "    <tr>\n",
       "      <th>2</th>\n",
       "      <td>82</td>\n",
       "      <td>23.124670</td>\n",
       "      <td>91</td>\n",
       "      <td>4.498</td>\n",
       "      <td>1.009651</td>\n",
       "      <td>17.9393</td>\n",
       "      <td>22.432040</td>\n",
       "      <td>9.27715</td>\n",
       "      <td>554.697</td>\n",
       "    </tr>\n",
       "    <tr>\n",
       "      <th>3</th>\n",
       "      <td>68</td>\n",
       "      <td>21.367521</td>\n",
       "      <td>77</td>\n",
       "      <td>3.226</td>\n",
       "      <td>0.612725</td>\n",
       "      <td>9.8827</td>\n",
       "      <td>7.169560</td>\n",
       "      <td>12.76600</td>\n",
       "      <td>928.220</td>\n",
       "    </tr>\n",
       "    <tr>\n",
       "      <th>4</th>\n",
       "      <td>86</td>\n",
       "      <td>21.111111</td>\n",
       "      <td>92</td>\n",
       "      <td>3.549</td>\n",
       "      <td>0.805386</td>\n",
       "      <td>6.6994</td>\n",
       "      <td>4.819240</td>\n",
       "      <td>10.57635</td>\n",
       "      <td>773.920</td>\n",
       "    </tr>\n",
       "    <tr>\n",
       "      <th>5</th>\n",
       "      <td>49</td>\n",
       "      <td>22.854458</td>\n",
       "      <td>92</td>\n",
       "      <td>3.226</td>\n",
       "      <td>0.732087</td>\n",
       "      <td>6.8317</td>\n",
       "      <td>13.679750</td>\n",
       "      <td>10.31760</td>\n",
       "      <td>530.410</td>\n",
       "    </tr>\n",
       "    <tr>\n",
       "      <th>6</th>\n",
       "      <td>89</td>\n",
       "      <td>22.700000</td>\n",
       "      <td>77</td>\n",
       "      <td>4.690</td>\n",
       "      <td>0.890787</td>\n",
       "      <td>6.9640</td>\n",
       "      <td>5.589865</td>\n",
       "      <td>12.93610</td>\n",
       "      <td>1256.083</td>\n",
       "    </tr>\n",
       "    <tr>\n",
       "      <th>7</th>\n",
       "      <td>76</td>\n",
       "      <td>23.800000</td>\n",
       "      <td>118</td>\n",
       "      <td>6.470</td>\n",
       "      <td>1.883201</td>\n",
       "      <td>4.3110</td>\n",
       "      <td>13.251320</td>\n",
       "      <td>5.10420</td>\n",
       "      <td>280.694</td>\n",
       "    </tr>\n",
       "    <tr>\n",
       "      <th>8</th>\n",
       "      <td>73</td>\n",
       "      <td>22.000000</td>\n",
       "      <td>97</td>\n",
       "      <td>3.350</td>\n",
       "      <td>0.801543</td>\n",
       "      <td>4.4700</td>\n",
       "      <td>10.358725</td>\n",
       "      <td>6.28445</td>\n",
       "      <td>136.855</td>\n",
       "    </tr>\n",
       "    <tr>\n",
       "      <th>9</th>\n",
       "      <td>75</td>\n",
       "      <td>23.000000</td>\n",
       "      <td>83</td>\n",
       "      <td>4.952</td>\n",
       "      <td>1.013839</td>\n",
       "      <td>17.1270</td>\n",
       "      <td>11.578990</td>\n",
       "      <td>7.09130</td>\n",
       "      <td>318.302</td>\n",
       "    </tr>\n",
       "    <tr>\n",
       "      <th>10</th>\n",
       "      <td>34</td>\n",
       "      <td>21.470000</td>\n",
       "      <td>78</td>\n",
       "      <td>3.469</td>\n",
       "      <td>0.667436</td>\n",
       "      <td>14.5700</td>\n",
       "      <td>13.110000</td>\n",
       "      <td>6.92000</td>\n",
       "      <td>354.600</td>\n",
       "    </tr>\n",
       "    <tr>\n",
       "      <th>11</th>\n",
       "      <td>29</td>\n",
       "      <td>23.010000</td>\n",
       "      <td>82</td>\n",
       "      <td>5.663</td>\n",
       "      <td>1.145436</td>\n",
       "      <td>35.5900</td>\n",
       "      <td>26.720000</td>\n",
       "      <td>4.58000</td>\n",
       "      <td>174.800</td>\n",
       "    </tr>\n",
       "    <tr>\n",
       "      <th>12</th>\n",
       "      <td>25</td>\n",
       "      <td>22.860000</td>\n",
       "      <td>82</td>\n",
       "      <td>4.090</td>\n",
       "      <td>0.827271</td>\n",
       "      <td>20.4500</td>\n",
       "      <td>23.670000</td>\n",
       "      <td>5.14000</td>\n",
       "      <td>313.730</td>\n",
       "    </tr>\n",
       "    <tr>\n",
       "      <th>13</th>\n",
       "      <td>24</td>\n",
       "      <td>18.670000</td>\n",
       "      <td>88</td>\n",
       "      <td>6.107</td>\n",
       "      <td>1.330000</td>\n",
       "      <td>8.8800</td>\n",
       "      <td>36.060000</td>\n",
       "      <td>6.85000</td>\n",
       "      <td>632.220</td>\n",
       "    </tr>\n",
       "    <tr>\n",
       "      <th>14</th>\n",
       "      <td>38</td>\n",
       "      <td>23.340000</td>\n",
       "      <td>75</td>\n",
       "      <td>5.782</td>\n",
       "      <td>1.069670</td>\n",
       "      <td>15.2600</td>\n",
       "      <td>17.950000</td>\n",
       "      <td>9.35000</td>\n",
       "      <td>165.020</td>\n",
       "    </tr>\n",
       "    <tr>\n",
       "      <th>15</th>\n",
       "      <td>44</td>\n",
       "      <td>20.760000</td>\n",
       "      <td>86</td>\n",
       "      <td>7.553</td>\n",
       "      <td>1.600000</td>\n",
       "      <td>14.0900</td>\n",
       "      <td>20.320000</td>\n",
       "      <td>7.64000</td>\n",
       "      <td>63.610</td>\n",
       "    </tr>\n",
       "    <tr>\n",
       "      <th>16</th>\n",
       "      <td>47</td>\n",
       "      <td>22.030000</td>\n",
       "      <td>84</td>\n",
       "      <td>2.869</td>\n",
       "      <td>0.590000</td>\n",
       "      <td>26.6500</td>\n",
       "      <td>38.040000</td>\n",
       "      <td>3.32000</td>\n",
       "      <td>191.720</td>\n",
       "    </tr>\n",
       "    <tr>\n",
       "      <th>17</th>\n",
       "      <td>61</td>\n",
       "      <td>32.038959</td>\n",
       "      <td>85</td>\n",
       "      <td>18.077</td>\n",
       "      <td>3.790144</td>\n",
       "      <td>30.7729</td>\n",
       "      <td>7.780255</td>\n",
       "      <td>13.68392</td>\n",
       "      <td>444.395</td>\n",
       "    </tr>\n",
       "    <tr>\n",
       "      <th>18</th>\n",
       "      <td>64</td>\n",
       "      <td>34.529723</td>\n",
       "      <td>95</td>\n",
       "      <td>4.427</td>\n",
       "      <td>1.037394</td>\n",
       "      <td>21.2117</td>\n",
       "      <td>5.462620</td>\n",
       "      <td>6.70188</td>\n",
       "      <td>252.449</td>\n",
       "    </tr>\n",
       "    <tr>\n",
       "      <th>19</th>\n",
       "      <td>32</td>\n",
       "      <td>36.512637</td>\n",
       "      <td>87</td>\n",
       "      <td>14.026</td>\n",
       "      <td>3.009980</td>\n",
       "      <td>49.3727</td>\n",
       "      <td>5.100000</td>\n",
       "      <td>17.10223</td>\n",
       "      <td>588.460</td>\n",
       "    </tr>\n",
       "    <tr>\n",
       "      <th>20</th>\n",
       "      <td>36</td>\n",
       "      <td>28.576676</td>\n",
       "      <td>86</td>\n",
       "      <td>4.345</td>\n",
       "      <td>0.921719</td>\n",
       "      <td>15.1248</td>\n",
       "      <td>8.600000</td>\n",
       "      <td>9.15390</td>\n",
       "      <td>534.224</td>\n",
       "    </tr>\n",
       "    <tr>\n",
       "      <th>21</th>\n",
       "      <td>34</td>\n",
       "      <td>31.975015</td>\n",
       "      <td>87</td>\n",
       "      <td>4.530</td>\n",
       "      <td>0.972138</td>\n",
       "      <td>28.7502</td>\n",
       "      <td>7.642760</td>\n",
       "      <td>5.62592</td>\n",
       "      <td>572.783</td>\n",
       "    </tr>\n",
       "    <tr>\n",
       "      <th>22</th>\n",
       "      <td>29</td>\n",
       "      <td>32.270788</td>\n",
       "      <td>84</td>\n",
       "      <td>5.810</td>\n",
       "      <td>1.203832</td>\n",
       "      <td>45.6196</td>\n",
       "      <td>6.209635</td>\n",
       "      <td>24.60330</td>\n",
       "      <td>904.981</td>\n",
       "    </tr>\n",
       "    <tr>\n",
       "      <th>23</th>\n",
       "      <td>35</td>\n",
       "      <td>30.276817</td>\n",
       "      <td>84</td>\n",
       "      <td>4.376</td>\n",
       "      <td>0.906707</td>\n",
       "      <td>39.2134</td>\n",
       "      <td>9.048185</td>\n",
       "      <td>16.43706</td>\n",
       "      <td>733.797</td>\n",
       "    </tr>\n",
       "    <tr>\n",
       "      <th>24</th>\n",
       "      <td>54</td>\n",
       "      <td>30.483158</td>\n",
       "      <td>90</td>\n",
       "      <td>5.537</td>\n",
       "      <td>1.229214</td>\n",
       "      <td>12.3310</td>\n",
       "      <td>9.731380</td>\n",
       "      <td>10.19299</td>\n",
       "      <td>1227.910</td>\n",
       "    </tr>\n",
       "    <tr>\n",
       "      <th>25</th>\n",
       "      <td>45</td>\n",
       "      <td>37.035608</td>\n",
       "      <td>83</td>\n",
       "      <td>6.760</td>\n",
       "      <td>1.383997</td>\n",
       "      <td>39.9802</td>\n",
       "      <td>4.617125</td>\n",
       "      <td>8.70448</td>\n",
       "      <td>586.173</td>\n",
       "    </tr>\n",
       "    <tr>\n",
       "      <th>26</th>\n",
       "      <td>50</td>\n",
       "      <td>38.578759</td>\n",
       "      <td>106</td>\n",
       "      <td>6.703</td>\n",
       "      <td>1.752611</td>\n",
       "      <td>46.6401</td>\n",
       "      <td>4.667645</td>\n",
       "      <td>11.78388</td>\n",
       "      <td>887.160</td>\n",
       "    </tr>\n",
       "    <tr>\n",
       "      <th>27</th>\n",
       "      <td>66</td>\n",
       "      <td>31.446541</td>\n",
       "      <td>90</td>\n",
       "      <td>9.245</td>\n",
       "      <td>2.052390</td>\n",
       "      <td>45.9624</td>\n",
       "      <td>10.355260</td>\n",
       "      <td>23.38190</td>\n",
       "      <td>1102.110</td>\n",
       "    </tr>\n",
       "    <tr>\n",
       "      <th>28</th>\n",
       "      <td>35</td>\n",
       "      <td>35.250761</td>\n",
       "      <td>90</td>\n",
       "      <td>6.817</td>\n",
       "      <td>1.513374</td>\n",
       "      <td>50.6094</td>\n",
       "      <td>6.966895</td>\n",
       "      <td>22.03703</td>\n",
       "      <td>667.928</td>\n",
       "    </tr>\n",
       "    <tr>\n",
       "      <th>29</th>\n",
       "      <td>36</td>\n",
       "      <td>34.174890</td>\n",
       "      <td>80</td>\n",
       "      <td>6.590</td>\n",
       "      <td>1.300427</td>\n",
       "      <td>10.2809</td>\n",
       "      <td>5.065915</td>\n",
       "      <td>15.72187</td>\n",
       "      <td>581.313</td>\n",
       "    </tr>\n",
       "    <tr>\n",
       "      <th>...</th>\n",
       "      <td>...</td>\n",
       "      <td>...</td>\n",
       "      <td>...</td>\n",
       "      <td>...</td>\n",
       "      <td>...</td>\n",
       "      <td>...</td>\n",
       "      <td>...</td>\n",
       "      <td>...</td>\n",
       "      <td>...</td>\n",
       "    </tr>\n",
       "    <tr>\n",
       "      <th>86</th>\n",
       "      <td>48</td>\n",
       "      <td>28.125000</td>\n",
       "      <td>90</td>\n",
       "      <td>2.540</td>\n",
       "      <td>0.563880</td>\n",
       "      <td>15.5325</td>\n",
       "      <td>10.222310</td>\n",
       "      <td>16.11032</td>\n",
       "      <td>1698.440</td>\n",
       "    </tr>\n",
       "    <tr>\n",
       "      <th>87</th>\n",
       "      <td>85</td>\n",
       "      <td>27.688778</td>\n",
       "      <td>196</td>\n",
       "      <td>51.814</td>\n",
       "      <td>25.050342</td>\n",
       "      <td>70.8824</td>\n",
       "      <td>7.901685</td>\n",
       "      <td>55.21530</td>\n",
       "      <td>1078.359</td>\n",
       "    </tr>\n",
       "    <tr>\n",
       "      <th>88</th>\n",
       "      <td>48</td>\n",
       "      <td>31.250000</td>\n",
       "      <td>199</td>\n",
       "      <td>12.162</td>\n",
       "      <td>5.969920</td>\n",
       "      <td>18.1314</td>\n",
       "      <td>4.104105</td>\n",
       "      <td>53.63080</td>\n",
       "      <td>1698.440</td>\n",
       "    </tr>\n",
       "    <tr>\n",
       "      <th>89</th>\n",
       "      <td>58</td>\n",
       "      <td>29.154519</td>\n",
       "      <td>139</td>\n",
       "      <td>16.582</td>\n",
       "      <td>5.685415</td>\n",
       "      <td>22.8884</td>\n",
       "      <td>10.262660</td>\n",
       "      <td>13.97399</td>\n",
       "      <td>923.886</td>\n",
       "    </tr>\n",
       "    <tr>\n",
       "      <th>90</th>\n",
       "      <td>40</td>\n",
       "      <td>30.836531</td>\n",
       "      <td>128</td>\n",
       "      <td>41.894</td>\n",
       "      <td>13.227332</td>\n",
       "      <td>31.0385</td>\n",
       "      <td>6.160995</td>\n",
       "      <td>17.55503</td>\n",
       "      <td>638.261</td>\n",
       "    </tr>\n",
       "    <tr>\n",
       "      <th>91</th>\n",
       "      <td>82</td>\n",
       "      <td>31.217482</td>\n",
       "      <td>100</td>\n",
       "      <td>18.077</td>\n",
       "      <td>4.458993</td>\n",
       "      <td>31.6453</td>\n",
       "      <td>9.923650</td>\n",
       "      <td>19.94687</td>\n",
       "      <td>994.316</td>\n",
       "    </tr>\n",
       "    <tr>\n",
       "      <th>92</th>\n",
       "      <td>52</td>\n",
       "      <td>30.801249</td>\n",
       "      <td>87</td>\n",
       "      <td>30.212</td>\n",
       "      <td>6.483495</td>\n",
       "      <td>29.2739</td>\n",
       "      <td>6.268540</td>\n",
       "      <td>24.24591</td>\n",
       "      <td>764.667</td>\n",
       "    </tr>\n",
       "    <tr>\n",
       "      <th>93</th>\n",
       "      <td>49</td>\n",
       "      <td>32.461911</td>\n",
       "      <td>134</td>\n",
       "      <td>24.887</td>\n",
       "      <td>8.225983</td>\n",
       "      <td>42.3914</td>\n",
       "      <td>10.793940</td>\n",
       "      <td>5.76800</td>\n",
       "      <td>656.393</td>\n",
       "    </tr>\n",
       "    <tr>\n",
       "      <th>94</th>\n",
       "      <td>60</td>\n",
       "      <td>31.231410</td>\n",
       "      <td>131</td>\n",
       "      <td>30.130</td>\n",
       "      <td>9.736007</td>\n",
       "      <td>37.8430</td>\n",
       "      <td>8.404430</td>\n",
       "      <td>11.50005</td>\n",
       "      <td>396.021</td>\n",
       "    </tr>\n",
       "    <tr>\n",
       "      <th>95</th>\n",
       "      <td>49</td>\n",
       "      <td>29.777778</td>\n",
       "      <td>70</td>\n",
       "      <td>8.396</td>\n",
       "      <td>1.449709</td>\n",
       "      <td>51.3387</td>\n",
       "      <td>10.731740</td>\n",
       "      <td>20.76801</td>\n",
       "      <td>602.486</td>\n",
       "    </tr>\n",
       "    <tr>\n",
       "      <th>96</th>\n",
       "      <td>44</td>\n",
       "      <td>27.887617</td>\n",
       "      <td>99</td>\n",
       "      <td>9.208</td>\n",
       "      <td>2.248594</td>\n",
       "      <td>12.6757</td>\n",
       "      <td>5.478170</td>\n",
       "      <td>23.03306</td>\n",
       "      <td>407.206</td>\n",
       "    </tr>\n",
       "    <tr>\n",
       "      <th>97</th>\n",
       "      <td>40</td>\n",
       "      <td>27.636054</td>\n",
       "      <td>103</td>\n",
       "      <td>2.432</td>\n",
       "      <td>0.617890</td>\n",
       "      <td>14.3224</td>\n",
       "      <td>6.783870</td>\n",
       "      <td>26.01360</td>\n",
       "      <td>293.123</td>\n",
       "    </tr>\n",
       "    <tr>\n",
       "      <th>98</th>\n",
       "      <td>71</td>\n",
       "      <td>27.915519</td>\n",
       "      <td>104</td>\n",
       "      <td>18.200</td>\n",
       "      <td>4.668907</td>\n",
       "      <td>53.4997</td>\n",
       "      <td>1.656020</td>\n",
       "      <td>49.24184</td>\n",
       "      <td>256.001</td>\n",
       "    </tr>\n",
       "    <tr>\n",
       "      <th>99</th>\n",
       "      <td>69</td>\n",
       "      <td>28.444444</td>\n",
       "      <td>108</td>\n",
       "      <td>8.808</td>\n",
       "      <td>2.346451</td>\n",
       "      <td>14.7485</td>\n",
       "      <td>5.288025</td>\n",
       "      <td>16.48508</td>\n",
       "      <td>353.568</td>\n",
       "    </tr>\n",
       "    <tr>\n",
       "      <th>100</th>\n",
       "      <td>74</td>\n",
       "      <td>28.650138</td>\n",
       "      <td>88</td>\n",
       "      <td>3.012</td>\n",
       "      <td>0.653805</td>\n",
       "      <td>31.1233</td>\n",
       "      <td>7.652220</td>\n",
       "      <td>18.35574</td>\n",
       "      <td>572.401</td>\n",
       "    </tr>\n",
       "    <tr>\n",
       "      <th>101</th>\n",
       "      <td>66</td>\n",
       "      <td>26.562500</td>\n",
       "      <td>89</td>\n",
       "      <td>6.524</td>\n",
       "      <td>1.432235</td>\n",
       "      <td>14.9084</td>\n",
       "      <td>8.429960</td>\n",
       "      <td>14.91922</td>\n",
       "      <td>269.487</td>\n",
       "    </tr>\n",
       "    <tr>\n",
       "      <th>102</th>\n",
       "      <td>65</td>\n",
       "      <td>30.915577</td>\n",
       "      <td>97</td>\n",
       "      <td>10.491</td>\n",
       "      <td>2.510147</td>\n",
       "      <td>44.0217</td>\n",
       "      <td>3.710090</td>\n",
       "      <td>20.46850</td>\n",
       "      <td>396.648</td>\n",
       "    </tr>\n",
       "    <tr>\n",
       "      <th>103</th>\n",
       "      <td>72</td>\n",
       "      <td>29.136316</td>\n",
       "      <td>83</td>\n",
       "      <td>10.949</td>\n",
       "      <td>2.241625</td>\n",
       "      <td>26.8081</td>\n",
       "      <td>2.784910</td>\n",
       "      <td>14.76966</td>\n",
       "      <td>232.018</td>\n",
       "    </tr>\n",
       "    <tr>\n",
       "      <th>104</th>\n",
       "      <td>57</td>\n",
       "      <td>34.838148</td>\n",
       "      <td>95</td>\n",
       "      <td>12.548</td>\n",
       "      <td>2.940415</td>\n",
       "      <td>33.1612</td>\n",
       "      <td>2.364950</td>\n",
       "      <td>9.95420</td>\n",
       "      <td>655.834</td>\n",
       "    </tr>\n",
       "    <tr>\n",
       "      <th>105</th>\n",
       "      <td>73</td>\n",
       "      <td>37.109375</td>\n",
       "      <td>134</td>\n",
       "      <td>5.636</td>\n",
       "      <td>1.862886</td>\n",
       "      <td>41.4064</td>\n",
       "      <td>3.335665</td>\n",
       "      <td>6.89235</td>\n",
       "      <td>788.902</td>\n",
       "    </tr>\n",
       "    <tr>\n",
       "      <th>106</th>\n",
       "      <td>45</td>\n",
       "      <td>29.384757</td>\n",
       "      <td>90</td>\n",
       "      <td>4.713</td>\n",
       "      <td>1.046286</td>\n",
       "      <td>23.8479</td>\n",
       "      <td>6.644245</td>\n",
       "      <td>15.55625</td>\n",
       "      <td>621.273</td>\n",
       "    </tr>\n",
       "    <tr>\n",
       "      <th>107</th>\n",
       "      <td>46</td>\n",
       "      <td>33.180000</td>\n",
       "      <td>92</td>\n",
       "      <td>5.750</td>\n",
       "      <td>1.304867</td>\n",
       "      <td>18.6900</td>\n",
       "      <td>9.160000</td>\n",
       "      <td>8.89000</td>\n",
       "      <td>209.190</td>\n",
       "    </tr>\n",
       "    <tr>\n",
       "      <th>108</th>\n",
       "      <td>68</td>\n",
       "      <td>35.560000</td>\n",
       "      <td>131</td>\n",
       "      <td>8.150</td>\n",
       "      <td>2.633537</td>\n",
       "      <td>17.8700</td>\n",
       "      <td>11.900000</td>\n",
       "      <td>4.19000</td>\n",
       "      <td>198.400</td>\n",
       "    </tr>\n",
       "    <tr>\n",
       "      <th>109</th>\n",
       "      <td>75</td>\n",
       "      <td>30.480000</td>\n",
       "      <td>152</td>\n",
       "      <td>7.010</td>\n",
       "      <td>2.628283</td>\n",
       "      <td>50.5300</td>\n",
       "      <td>10.060000</td>\n",
       "      <td>11.73000</td>\n",
       "      <td>99.450</td>\n",
       "    </tr>\n",
       "    <tr>\n",
       "      <th>110</th>\n",
       "      <td>54</td>\n",
       "      <td>36.050000</td>\n",
       "      <td>119</td>\n",
       "      <td>11.910</td>\n",
       "      <td>3.495982</td>\n",
       "      <td>89.2700</td>\n",
       "      <td>8.010000</td>\n",
       "      <td>5.06000</td>\n",
       "      <td>218.280</td>\n",
       "    </tr>\n",
       "    <tr>\n",
       "      <th>111</th>\n",
       "      <td>45</td>\n",
       "      <td>26.850000</td>\n",
       "      <td>92</td>\n",
       "      <td>3.330</td>\n",
       "      <td>0.755688</td>\n",
       "      <td>54.6800</td>\n",
       "      <td>12.100000</td>\n",
       "      <td>10.96000</td>\n",
       "      <td>268.230</td>\n",
       "    </tr>\n",
       "    <tr>\n",
       "      <th>112</th>\n",
       "      <td>62</td>\n",
       "      <td>26.840000</td>\n",
       "      <td>100</td>\n",
       "      <td>4.530</td>\n",
       "      <td>1.117400</td>\n",
       "      <td>12.4500</td>\n",
       "      <td>21.420000</td>\n",
       "      <td>7.32000</td>\n",
       "      <td>330.160</td>\n",
       "    </tr>\n",
       "    <tr>\n",
       "      <th>113</th>\n",
       "      <td>65</td>\n",
       "      <td>32.050000</td>\n",
       "      <td>97</td>\n",
       "      <td>5.730</td>\n",
       "      <td>1.370998</td>\n",
       "      <td>61.4800</td>\n",
       "      <td>22.540000</td>\n",
       "      <td>10.33000</td>\n",
       "      <td>314.050</td>\n",
       "    </tr>\n",
       "    <tr>\n",
       "      <th>114</th>\n",
       "      <td>72</td>\n",
       "      <td>25.590000</td>\n",
       "      <td>82</td>\n",
       "      <td>2.820</td>\n",
       "      <td>0.570392</td>\n",
       "      <td>24.9600</td>\n",
       "      <td>33.750000</td>\n",
       "      <td>3.27000</td>\n",
       "      <td>392.460</td>\n",
       "    </tr>\n",
       "    <tr>\n",
       "      <th>115</th>\n",
       "      <td>86</td>\n",
       "      <td>27.180000</td>\n",
       "      <td>138</td>\n",
       "      <td>19.910</td>\n",
       "      <td>6.777364</td>\n",
       "      <td>90.2800</td>\n",
       "      <td>14.110000</td>\n",
       "      <td>4.35000</td>\n",
       "      <td>90.090</td>\n",
       "    </tr>\n",
       "  </tbody>\n",
       "</table>\n",
       "<p>116 rows × 9 columns</p>\n",
       "</div>"
      ],
      "text/plain": [
       "     Age        BMI  Glucose  Insulin       HOMA   Leptin  Adiponectin  \\\n",
       "0     48  23.500000       70    2.707   0.467409   8.8071     9.702400   \n",
       "1     83  20.690495       92    3.115   0.706897   8.8438     5.429285   \n",
       "2     82  23.124670       91    4.498   1.009651  17.9393    22.432040   \n",
       "3     68  21.367521       77    3.226   0.612725   9.8827     7.169560   \n",
       "4     86  21.111111       92    3.549   0.805386   6.6994     4.819240   \n",
       "5     49  22.854458       92    3.226   0.732087   6.8317    13.679750   \n",
       "6     89  22.700000       77    4.690   0.890787   6.9640     5.589865   \n",
       "7     76  23.800000      118    6.470   1.883201   4.3110    13.251320   \n",
       "8     73  22.000000       97    3.350   0.801543   4.4700    10.358725   \n",
       "9     75  23.000000       83    4.952   1.013839  17.1270    11.578990   \n",
       "10    34  21.470000       78    3.469   0.667436  14.5700    13.110000   \n",
       "11    29  23.010000       82    5.663   1.145436  35.5900    26.720000   \n",
       "12    25  22.860000       82    4.090   0.827271  20.4500    23.670000   \n",
       "13    24  18.670000       88    6.107   1.330000   8.8800    36.060000   \n",
       "14    38  23.340000       75    5.782   1.069670  15.2600    17.950000   \n",
       "15    44  20.760000       86    7.553   1.600000  14.0900    20.320000   \n",
       "16    47  22.030000       84    2.869   0.590000  26.6500    38.040000   \n",
       "17    61  32.038959       85   18.077   3.790144  30.7729     7.780255   \n",
       "18    64  34.529723       95    4.427   1.037394  21.2117     5.462620   \n",
       "19    32  36.512637       87   14.026   3.009980  49.3727     5.100000   \n",
       "20    36  28.576676       86    4.345   0.921719  15.1248     8.600000   \n",
       "21    34  31.975015       87    4.530   0.972138  28.7502     7.642760   \n",
       "22    29  32.270788       84    5.810   1.203832  45.6196     6.209635   \n",
       "23    35  30.276817       84    4.376   0.906707  39.2134     9.048185   \n",
       "24    54  30.483158       90    5.537   1.229214  12.3310     9.731380   \n",
       "25    45  37.035608       83    6.760   1.383997  39.9802     4.617125   \n",
       "26    50  38.578759      106    6.703   1.752611  46.6401     4.667645   \n",
       "27    66  31.446541       90    9.245   2.052390  45.9624    10.355260   \n",
       "28    35  35.250761       90    6.817   1.513374  50.6094     6.966895   \n",
       "29    36  34.174890       80    6.590   1.300427  10.2809     5.065915   \n",
       "..   ...        ...      ...      ...        ...      ...          ...   \n",
       "86    48  28.125000       90    2.540   0.563880  15.5325    10.222310   \n",
       "87    85  27.688778      196   51.814  25.050342  70.8824     7.901685   \n",
       "88    48  31.250000      199   12.162   5.969920  18.1314     4.104105   \n",
       "89    58  29.154519      139   16.582   5.685415  22.8884    10.262660   \n",
       "90    40  30.836531      128   41.894  13.227332  31.0385     6.160995   \n",
       "91    82  31.217482      100   18.077   4.458993  31.6453     9.923650   \n",
       "92    52  30.801249       87   30.212   6.483495  29.2739     6.268540   \n",
       "93    49  32.461911      134   24.887   8.225983  42.3914    10.793940   \n",
       "94    60  31.231410      131   30.130   9.736007  37.8430     8.404430   \n",
       "95    49  29.777778       70    8.396   1.449709  51.3387    10.731740   \n",
       "96    44  27.887617       99    9.208   2.248594  12.6757     5.478170   \n",
       "97    40  27.636054      103    2.432   0.617890  14.3224     6.783870   \n",
       "98    71  27.915519      104   18.200   4.668907  53.4997     1.656020   \n",
       "99    69  28.444444      108    8.808   2.346451  14.7485     5.288025   \n",
       "100   74  28.650138       88    3.012   0.653805  31.1233     7.652220   \n",
       "101   66  26.562500       89    6.524   1.432235  14.9084     8.429960   \n",
       "102   65  30.915577       97   10.491   2.510147  44.0217     3.710090   \n",
       "103   72  29.136316       83   10.949   2.241625  26.8081     2.784910   \n",
       "104   57  34.838148       95   12.548   2.940415  33.1612     2.364950   \n",
       "105   73  37.109375      134    5.636   1.862886  41.4064     3.335665   \n",
       "106   45  29.384757       90    4.713   1.046286  23.8479     6.644245   \n",
       "107   46  33.180000       92    5.750   1.304867  18.6900     9.160000   \n",
       "108   68  35.560000      131    8.150   2.633537  17.8700    11.900000   \n",
       "109   75  30.480000      152    7.010   2.628283  50.5300    10.060000   \n",
       "110   54  36.050000      119   11.910   3.495982  89.2700     8.010000   \n",
       "111   45  26.850000       92    3.330   0.755688  54.6800    12.100000   \n",
       "112   62  26.840000      100    4.530   1.117400  12.4500    21.420000   \n",
       "113   65  32.050000       97    5.730   1.370998  61.4800    22.540000   \n",
       "114   72  25.590000       82    2.820   0.570392  24.9600    33.750000   \n",
       "115   86  27.180000      138   19.910   6.777364  90.2800    14.110000   \n",
       "\n",
       "     Resistin     MCP.1  \n",
       "0     7.99585   417.114  \n",
       "1     4.06405   468.786  \n",
       "2     9.27715   554.697  \n",
       "3    12.76600   928.220  \n",
       "4    10.57635   773.920  \n",
       "5    10.31760   530.410  \n",
       "6    12.93610  1256.083  \n",
       "7     5.10420   280.694  \n",
       "8     6.28445   136.855  \n",
       "9     7.09130   318.302  \n",
       "10    6.92000   354.600  \n",
       "11    4.58000   174.800  \n",
       "12    5.14000   313.730  \n",
       "13    6.85000   632.220  \n",
       "14    9.35000   165.020  \n",
       "15    7.64000    63.610  \n",
       "16    3.32000   191.720  \n",
       "17   13.68392   444.395  \n",
       "18    6.70188   252.449  \n",
       "19   17.10223   588.460  \n",
       "20    9.15390   534.224  \n",
       "21    5.62592   572.783  \n",
       "22   24.60330   904.981  \n",
       "23   16.43706   733.797  \n",
       "24   10.19299  1227.910  \n",
       "25    8.70448   586.173  \n",
       "26   11.78388   887.160  \n",
       "27   23.38190  1102.110  \n",
       "28   22.03703   667.928  \n",
       "29   15.72187   581.313  \n",
       "..        ...       ...  \n",
       "86   16.11032  1698.440  \n",
       "87   55.21530  1078.359  \n",
       "88   53.63080  1698.440  \n",
       "89   13.97399   923.886  \n",
       "90   17.55503   638.261  \n",
       "91   19.94687   994.316  \n",
       "92   24.24591   764.667  \n",
       "93    5.76800   656.393  \n",
       "94   11.50005   396.021  \n",
       "95   20.76801   602.486  \n",
       "96   23.03306   407.206  \n",
       "97   26.01360   293.123  \n",
       "98   49.24184   256.001  \n",
       "99   16.48508   353.568  \n",
       "100  18.35574   572.401  \n",
       "101  14.91922   269.487  \n",
       "102  20.46850   396.648  \n",
       "103  14.76966   232.018  \n",
       "104   9.95420   655.834  \n",
       "105   6.89235   788.902  \n",
       "106  15.55625   621.273  \n",
       "107   8.89000   209.190  \n",
       "108   4.19000   198.400  \n",
       "109  11.73000    99.450  \n",
       "110   5.06000   218.280  \n",
       "111  10.96000   268.230  \n",
       "112   7.32000   330.160  \n",
       "113  10.33000   314.050  \n",
       "114   3.27000   392.460  \n",
       "115   4.35000    90.090  \n",
       "\n",
       "[116 rows x 9 columns]"
      ]
     },
     "execution_count": 71,
     "metadata": {},
     "output_type": "execute_result"
    }
   ],
   "source": [
    "X"
   ]
  },
  {
   "cell_type": "code",
   "execution_count": 72,
   "metadata": {},
   "outputs": [],
   "source": [
    "from sklearn.model_selection import train_test_split"
   ]
  },
  {
   "cell_type": "code",
   "execution_count": 73,
   "metadata": {},
   "outputs": [],
   "source": [
    "X_trainset, X_testset, y_trainset, y_testset = train_test_split(X, y, test_size=0.20, random_state=0)"
   ]
  },
  {
   "cell_type": "code",
   "execution_count": 74,
   "metadata": {},
   "outputs": [
    {
     "name": "stdout",
     "output_type": "stream",
     "text": [
      "(92, 9)\n",
      "(92, 1)\n"
     ]
    }
   ],
   "source": [
    "print(X_trainset.shape)\n",
    "print(y_trainset.shape)"
   ]
  },
  {
   "cell_type": "code",
   "execution_count": 75,
   "metadata": {},
   "outputs": [
    {
     "name": "stdout",
     "output_type": "stream",
     "text": [
      "(24, 9)\n",
      "(24, 1)\n"
     ]
    }
   ],
   "source": [
    "print(X_testset.shape)\n",
    "print(y_testset.shape)"
   ]
  },
  {
   "cell_type": "code",
   "execution_count": 76,
   "metadata": {},
   "outputs": [],
   "source": [
    "# Feature Scaling\n",
    "from sklearn.preprocessing import StandardScaler\n",
    "sc = StandardScaler()\n",
    "X_trainset = sc.fit_transform(X_trainset)\n",
    "X_testset = sc.transform(X_testset)"
   ]
  },
  {
   "cell_type": "markdown",
   "metadata": {},
   "source": [
    "# Dimension Reduction"
   ]
  },
  {
   "cell_type": "code",
   "execution_count": 77,
   "metadata": {},
   "outputs": [],
   "source": [
    "# Applying LDA\n",
    "#from sklearn.discriminant_analysis import LinearDiscriminantAnalysis as LDA\n",
    "#lda = LDA(n_components = 8)\n",
    "#X_trainset = lda.fit_transform(X_trainset, y_trainset)\n",
    "#X_testset = lda.transform(X_testset)"
   ]
  },
  {
   "cell_type": "code",
   "execution_count": 78,
   "metadata": {},
   "outputs": [],
   "source": [
    "#X_testset"
   ]
  },
  {
   "cell_type": "markdown",
   "metadata": {},
   "source": [
    "## Kernel PCA"
   ]
  },
  {
   "cell_type": "markdown",
   "metadata": {},
   "source": [
    "Principal component analysis (PCA) is a statistical procedure that uses an orthogonal transformation to convert a set of observations of possibly correlated variables into a set of values of linearly uncorrelated variables called principal components."
   ]
  },
  {
   "cell_type": "code",
   "execution_count": 79,
   "metadata": {},
   "outputs": [],
   "source": [
    "# Applying Kernel PCA\n",
    "from sklearn.decomposition import KernelPCA\n",
    "kpca = KernelPCA(n_components = 7, kernel = 'rbf')\n",
    "X_trainset = kpca.fit_transform(X_trainset)\n",
    "X_testset = kpca.transform(X_testset)"
   ]
  },
  {
   "cell_type": "code",
   "execution_count": 80,
   "metadata": {},
   "outputs": [
    {
     "data": {
      "text/plain": [
       "array([[-3.66677689e-01,  4.11907986e-01,  2.86369355e-01,\n",
       "        -1.49276203e-01,  3.46771998e-02,  5.47984540e-02,\n",
       "        -1.15963574e-02],\n",
       "       [ 1.50588633e-01,  2.75806038e-01, -1.85293723e-01,\n",
       "         8.05592805e-02, -1.41414694e-01,  1.72079406e-02,\n",
       "         1.88896316e-01],\n",
       "       [-3.75581157e-01, -2.10453063e-01,  2.41849087e-01,\n",
       "         2.31393702e-01, -6.17271016e-03,  1.23649041e-01,\n",
       "         1.09103025e-01],\n",
       "       [-3.72864220e-01, -3.30335580e-01, -1.80892698e-01,\n",
       "         3.70756686e-02,  2.58323452e-01, -9.70795239e-02,\n",
       "         3.10139495e-03],\n",
       "       [-3.51105913e-01,  9.10251010e-04, -2.97424104e-01,\n",
       "        -5.95681290e-02, -8.31249211e-02, -3.36281335e-02,\n",
       "         1.27596835e-01],\n",
       "       [ 1.86311651e-01,  2.44399250e-01, -2.07441321e-01,\n",
       "         1.01746090e-01,  3.69200984e-02,  2.48011196e-01,\n",
       "         3.61673714e-02],\n",
       "       [ 3.78192866e-01,  1.11133432e-01, -6.04547284e-02,\n",
       "         2.15556870e-01, -1.65467225e-01, -2.02719304e-01,\n",
       "         1.93538871e-01],\n",
       "       [ 2.54528977e-01,  2.66238541e-01, -2.29806112e-01,\n",
       "         1.38185900e-01, -7.29473046e-02,  1.46181260e-01,\n",
       "         1.85721736e-01],\n",
       "       [ 6.47304826e-02, -1.36222255e-01,  3.30257855e-01,\n",
       "        -3.08589082e-01,  3.60856300e-04,  6.05120616e-03,\n",
       "         1.06174037e-01],\n",
       "       [-2.89220821e-01, -1.52111824e-03,  2.15747920e-01,\n",
       "         3.76819468e-01, -2.35964738e-02,  1.61367788e-01,\n",
       "        -7.97239057e-02],\n",
       "       [ 4.98996007e-01,  4.64922791e-02, -1.38031686e-01,\n",
       "         5.93107913e-02,  7.39747480e-03,  3.85868708e-02,\n",
       "        -6.49175696e-02],\n",
       "       [-1.76545088e-01,  2.08626414e-01, -2.88275975e-01,\n",
       "        -2.43651796e-02,  3.01024170e-01, -1.00396802e-01,\n",
       "        -4.88963796e-02],\n",
       "       [ 3.43945607e-01,  1.98095059e-01, -2.97422939e-01,\n",
       "         8.16959297e-02, -2.85071035e-01, -3.36843909e-02,\n",
       "         2.85188434e-01],\n",
       "       [ 4.11905445e-01,  6.41625192e-02,  4.40493262e-01,\n",
       "         1.43661269e-01,  9.97366380e-02,  2.05063391e-01,\n",
       "        -7.35302321e-02],\n",
       "       [-5.31473253e-02, -2.80758789e-01, -5.39938179e-02,\n",
       "        -2.79348048e-01,  1.45789581e-01, -2.04920410e-01,\n",
       "         7.43664836e-04],\n",
       "       [ 1.99858089e-01,  1.72826603e-01,  3.73142985e-02,\n",
       "         3.50149561e-01, -4.66393165e-03,  9.49943234e-02,\n",
       "        -2.70475567e-01],\n",
       "       [ 1.51133566e-01, -1.04277397e-02,  1.45764548e-01,\n",
       "         3.98841141e-01,  2.82430061e-01, -8.29396961e-02,\n",
       "         1.04691641e-01],\n",
       "       [-3.14039556e-01,  1.50979915e-01, -2.64543473e-01,\n",
       "        -2.73491774e-01,  7.65239086e-02, -9.06789357e-02,\n",
       "        -1.25599148e-02],\n",
       "       [-3.60746800e-01,  9.43809399e-02,  2.96975914e-01,\n",
       "         1.39771330e-02, -3.18846428e-01,  1.73758471e-01,\n",
       "        -8.39063930e-03],\n",
       "       [-4.21200058e-01,  1.51080749e-01,  3.07125292e-01,\n",
       "        -1.50368759e-04, -2.22220992e-01,  1.00181405e-01,\n",
       "        -1.23736121e-01],\n",
       "       [ 9.20050388e-02,  4.85717707e-01, -2.05077983e-01,\n",
       "        -9.54769001e-02,  2.00318168e-01,  9.30515273e-02,\n",
       "        -4.79571922e-02],\n",
       "       [ 9.12318749e-02,  4.71570740e-01, -1.61462580e-01,\n",
       "        -2.66561567e-02,  1.25066290e-01,  8.22205786e-02,\n",
       "        -1.51067905e-02],\n",
       "       [ 5.14942428e-01, -7.54869182e-02,  1.68335891e-01,\n",
       "         2.82930532e-02,  9.52143628e-02,  1.09358333e-01,\n",
       "         1.40089170e-01],\n",
       "       [ 1.95156344e-01,  1.76578962e-01, -5.45024536e-02,\n",
       "         3.77890127e-01,  2.04089759e-01,  1.00247362e-01,\n",
       "         9.69487714e-03]])"
      ]
     },
     "execution_count": 80,
     "metadata": {},
     "output_type": "execute_result"
    }
   ],
   "source": [
    "X_testset"
   ]
  },
  {
   "cell_type": "markdown",
   "metadata": {},
   "source": [
    "# Using KNN for classification"
   ]
  },
  {
   "cell_type": "code",
   "execution_count": 81,
   "metadata": {},
   "outputs": [
    {
     "name": "stderr",
     "output_type": "stream",
     "text": [
      "/opt/conda/envs/Python36/lib/python3.6/site-packages/ipykernel/__main__.py:4: DataConversionWarning: A column-vector y was passed when a 1d array was expected. Please change the shape of y to (n_samples, ), for example using ravel().\n",
      "/opt/conda/envs/Python36/lib/python3.6/site-packages/sklearn/model_selection/_validation.py:515: DataConversionWarning: A column-vector y was passed when a 1d array was expected. Please change the shape of y to (n_samples, ), for example using ravel().\n",
      "  estimator.fit(X_train, y_train, **fit_params)\n",
      "/opt/conda/envs/Python36/lib/python3.6/site-packages/sklearn/model_selection/_validation.py:515: DataConversionWarning: A column-vector y was passed when a 1d array was expected. Please change the shape of y to (n_samples, ), for example using ravel().\n",
      "  estimator.fit(X_train, y_train, **fit_params)\n",
      "/opt/conda/envs/Python36/lib/python3.6/site-packages/sklearn/model_selection/_validation.py:515: DataConversionWarning: A column-vector y was passed when a 1d array was expected. Please change the shape of y to (n_samples, ), for example using ravel().\n",
      "  estimator.fit(X_train, y_train, **fit_params)\n",
      "/opt/conda/envs/Python36/lib/python3.6/site-packages/sklearn/model_selection/_validation.py:515: DataConversionWarning: A column-vector y was passed when a 1d array was expected. Please change the shape of y to (n_samples, ), for example using ravel().\n",
      "  estimator.fit(X_train, y_train, **fit_params)\n",
      "/opt/conda/envs/Python36/lib/python3.6/site-packages/sklearn/model_selection/_validation.py:515: DataConversionWarning: A column-vector y was passed when a 1d array was expected. Please change the shape of y to (n_samples, ), for example using ravel().\n",
      "  estimator.fit(X_train, y_train, **fit_params)\n",
      "/opt/conda/envs/Python36/lib/python3.6/site-packages/sklearn/model_selection/_validation.py:515: DataConversionWarning: A column-vector y was passed when a 1d array was expected. Please change the shape of y to (n_samples, ), for example using ravel().\n",
      "  estimator.fit(X_train, y_train, **fit_params)\n",
      "/opt/conda/envs/Python36/lib/python3.6/site-packages/sklearn/model_selection/_validation.py:515: DataConversionWarning: A column-vector y was passed when a 1d array was expected. Please change the shape of y to (n_samples, ), for example using ravel().\n",
      "  estimator.fit(X_train, y_train, **fit_params)\n",
      "/opt/conda/envs/Python36/lib/python3.6/site-packages/sklearn/model_selection/_validation.py:515: DataConversionWarning: A column-vector y was passed when a 1d array was expected. Please change the shape of y to (n_samples, ), for example using ravel().\n",
      "  estimator.fit(X_train, y_train, **fit_params)\n",
      "/opt/conda/envs/Python36/lib/python3.6/site-packages/sklearn/model_selection/_validation.py:515: DataConversionWarning: A column-vector y was passed when a 1d array was expected. Please change the shape of y to (n_samples, ), for example using ravel().\n",
      "  estimator.fit(X_train, y_train, **fit_params)\n",
      "/opt/conda/envs/Python36/lib/python3.6/site-packages/sklearn/model_selection/_validation.py:515: DataConversionWarning: A column-vector y was passed when a 1d array was expected. Please change the shape of y to (n_samples, ), for example using ravel().\n",
      "  estimator.fit(X_train, y_train, **fit_params)\n"
     ]
    }
   ],
   "source": [
    "# Fitting K-NN to the Training set\n",
    "from sklearn.neighbors import KNeighborsClassifier\n",
    "classifier = KNeighborsClassifier(n_neighbors = 5, metric = 'minkowski', p = 2)\n",
    "classifier.fit(X_trainset, y_trainset)\n",
    "\n",
    "# Predicting the Test set results\n",
    "y_pred = classifier.predict(X_testset)\n",
    "\n",
    "# Making the Confusion Matrix\n",
    "from sklearn.metrics import confusion_matrix\n",
    "knn_cm = confusion_matrix(y_testset, y_pred)\n",
    "acuracy  = cross_val_score(estimator = classifier, X=X_trainset, y=y_trainset, cv = 10)\n",
    "knn_acuracy = acuracy.mean()\n",
    "knn_precision_score = precision_score(y_pred, y_testset)\n",
    "knn_recall_score = recall_score(y_pred, y_testset)\n",
    "knn_f1_score = f1_score(y_pred, y_testset)"
   ]
  },
  {
   "cell_type": "code",
   "execution_count": 82,
   "metadata": {},
   "outputs": [
    {
     "name": "stdout",
     "output_type": "stream",
     "text": [
      "[[ 7  4]\n",
      " [ 2 11]]\n",
      "0.6363636363636364\n",
      "0.7777777777777778\n",
      "0.7000000000000001\n"
     ]
    }
   ],
   "source": [
    "print(knn_cm)\n",
    "print(knn_precision_score)\n",
    "print(knn_recall_score)\n",
    "print(knn_f1_score)"
   ]
  },
  {
   "cell_type": "code",
   "execution_count": 83,
   "metadata": {},
   "outputs": [
    {
     "name": "stdout",
     "output_type": "stream",
     "text": [
      "KNN confusion matrix\n",
      "[[ 7  4]\n",
      " [ 2 11]]\n"
     ]
    },
    {
     "data": {
      "image/png": "[encoded data removed]",
      "text/plain": [
       "<Figure size 432x288 with 2 Axes>"
      ]
     },
     "metadata": {
      "needs_background": "light"
     },
     "output_type": "display_data"
    }
   ],
   "source": [
    "class_names = [\"Cancer\", \"Not cancer\"]\n",
    "title = \"KNN confusion matrix\"\n",
    "disp = plot_confusion_matrix(classifier, X_testset, y_testset,\n",
    "                                 display_labels=class_names,\n",
    "                                 cmap=plt.cm.Blues)\n",
    "disp.ax_.set_title(title)\n",
    "\n",
    "print(title)\n",
    "print(disp.confusion_matrix)"
   ]
  },
  {
   "cell_type": "markdown",
   "metadata": {},
   "source": [
    "# Using SVM for classification\n"
   ]
  },
  {
   "cell_type": "code",
   "execution_count": 84,
   "metadata": {},
   "outputs": [
    {
     "name": "stderr",
     "output_type": "stream",
     "text": [
      "/opt/conda/envs/Python36/lib/python3.6/site-packages/sklearn/utils/validation.py:760: DataConversionWarning: A column-vector y was passed when a 1d array was expected. Please change the shape of y to (n_samples, ), for example using ravel().\n",
      "  y = column_or_1d(y, warn=True)\n"
     ]
    },
    {
     "data": {
      "text/plain": [
       "SVC(C=1.0, break_ties=False, cache_size=200, class_weight=None, coef0=0.0,\n",
       "    decision_function_shape='ovr', degree=3, gamma='scale', kernel='linear',\n",
       "    max_iter=-1, probability=False, random_state=0, shrinking=True, tol=0.001,\n",
       "    verbose=False)"
      ]
     },
     "execution_count": 84,
     "metadata": {},
     "output_type": "execute_result"
    }
   ],
   "source": [
    "from sklearn.svm import SVC\n",
    "classifier = SVC(kernel = 'linear', random_state = 0)\n",
    "classifier.fit(X_trainset, y_trainset)\n"
   ]
  },
  {
   "cell_type": "code",
   "execution_count": 85,
   "metadata": {},
   "outputs": [
    {
     "name": "stderr",
     "output_type": "stream",
     "text": [
      "/opt/conda/envs/Python36/lib/python3.6/site-packages/sklearn/utils/validation.py:760: DataConversionWarning: A column-vector y was passed when a 1d array was expected. Please change the shape of y to (n_samples, ), for example using ravel().\n",
      "  y = column_or_1d(y, warn=True)\n",
      "/opt/conda/envs/Python36/lib/python3.6/site-packages/sklearn/utils/validation.py:760: DataConversionWarning: A column-vector y was passed when a 1d array was expected. Please change the shape of y to (n_samples, ), for example using ravel().\n",
      "  y = column_or_1d(y, warn=True)\n",
      "/opt/conda/envs/Python36/lib/python3.6/site-packages/sklearn/utils/validation.py:760: DataConversionWarning: A column-vector y was passed when a 1d array was expected. Please change the shape of y to (n_samples, ), for example using ravel().\n",
      "  y = column_or_1d(y, warn=True)\n",
      "/opt/conda/envs/Python36/lib/python3.6/site-packages/sklearn/utils/validation.py:760: DataConversionWarning: A column-vector y was passed when a 1d array was expected. Please change the shape of y to (n_samples, ), for example using ravel().\n",
      "  y = column_or_1d(y, warn=True)\n",
      "/opt/conda/envs/Python36/lib/python3.6/site-packages/sklearn/utils/validation.py:760: DataConversionWarning: A column-vector y was passed when a 1d array was expected. Please change the shape of y to (n_samples, ), for example using ravel().\n",
      "  y = column_or_1d(y, warn=True)\n",
      "/opt/conda/envs/Python36/lib/python3.6/site-packages/sklearn/utils/validation.py:760: DataConversionWarning: A column-vector y was passed when a 1d array was expected. Please change the shape of y to (n_samples, ), for example using ravel().\n",
      "  y = column_or_1d(y, warn=True)\n",
      "/opt/conda/envs/Python36/lib/python3.6/site-packages/sklearn/utils/validation.py:760: DataConversionWarning: A column-vector y was passed when a 1d array was expected. Please change the shape of y to (n_samples, ), for example using ravel().\n",
      "  y = column_or_1d(y, warn=True)\n",
      "/opt/conda/envs/Python36/lib/python3.6/site-packages/sklearn/utils/validation.py:760: DataConversionWarning: A column-vector y was passed when a 1d array was expected. Please change the shape of y to (n_samples, ), for example using ravel().\n",
      "  y = column_or_1d(y, warn=True)\n",
      "/opt/conda/envs/Python36/lib/python3.6/site-packages/sklearn/utils/validation.py:760: DataConversionWarning: A column-vector y was passed when a 1d array was expected. Please change the shape of y to (n_samples, ), for example using ravel().\n",
      "  y = column_or_1d(y, warn=True)\n",
      "/opt/conda/envs/Python36/lib/python3.6/site-packages/sklearn/utils/validation.py:760: DataConversionWarning: A column-vector y was passed when a 1d array was expected. Please change the shape of y to (n_samples, ), for example using ravel().\n",
      "  y = column_or_1d(y, warn=True)\n"
     ]
    }
   ],
   "source": [
    "# Predicting the Test set results\n",
    "y_pred = classifier.predict(X_testset)\n",
    "\n",
    "# Making the Confusion Matrix\n",
    "from sklearn.metrics import confusion_matrix\n",
    "svm_cm = confusion_matrix(y_testset, y_pred)\n",
    "acuracy  = cross_val_score(estimator = classifier, X=X_trainset, y=y_trainset, cv = 10)\n",
    "svm_acuracy = acuracy.mean()\n",
    "svm_precision_score = precision_score(y_pred, y_testset)\n",
    "svm_recall_score = recall_score(y_pred, y_testset)\n",
    "svm_f1_score = f1_score(y_pred, y_testset)\n"
   ]
  },
  {
   "cell_type": "code",
   "execution_count": 86,
   "metadata": {},
   "outputs": [
    {
     "data": {
      "text/plain": [
       "array([[ 5,  6],\n",
       "       [ 2, 11]])"
      ]
     },
     "execution_count": 86,
     "metadata": {},
     "output_type": "execute_result"
    }
   ],
   "source": [
    "svm_cm"
   ]
  },
  {
   "cell_type": "code",
   "execution_count": 87,
   "metadata": {},
   "outputs": [
    {
     "name": "stdout",
     "output_type": "stream",
     "text": [
      "[[ 5  6]\n",
      " [ 2 11]]\n",
      "0.45454545454545453\n",
      "0.7142857142857143\n",
      "0.5555555555555556\n"
     ]
    }
   ],
   "source": [
    "print(svm_cm)\n",
    "print(svm_precision_score)\n",
    "print(svm_recall_score)\n",
    "print(svm_f1_score)"
   ]
  },
  {
   "cell_type": "code",
   "execution_count": 88,
   "metadata": {},
   "outputs": [
    {
     "name": "stdout",
     "output_type": "stream",
     "text": [
      "SVM confusion matrix\n",
      "[[ 5  6]\n",
      " [ 2 11]]\n"
     ]
    },
    {
     "data": {
      "image/png": "[encoded data removed]",
      "text/plain": [
       "<Figure size 432x288 with 2 Axes>"
      ]
     },
     "metadata": {
      "needs_background": "light"
     },
     "output_type": "display_data"
    }
   ],
   "source": [
    "class_names = [\"Cancer\", \"Not cancer\"]\n",
    "title = \"SVM confusion matrix\"\n",
    "disp = plot_confusion_matrix(classifier, X_testset, y_testset,\n",
    "                                 display_labels=class_names,\n",
    "                                 cmap=plt.cm.Blues)\n",
    "disp.ax_.set_title(title)\n",
    "\n",
    "print(title)\n",
    "print(disp.confusion_matrix)"
   ]
  },
  {
   "cell_type": "markdown",
   "metadata": {},
   "source": [
    "# Using Kernel SVM for classification\n"
   ]
  },
  {
   "cell_type": "code",
   "execution_count": 89,
   "metadata": {},
   "outputs": [
    {
     "name": "stderr",
     "output_type": "stream",
     "text": [
      "/opt/conda/envs/Python36/lib/python3.6/site-packages/sklearn/utils/validation.py:760: DataConversionWarning: A column-vector y was passed when a 1d array was expected. Please change the shape of y to (n_samples, ), for example using ravel().\n",
      "  y = column_or_1d(y, warn=True)\n"
     ]
    },
    {
     "data": {
      "text/plain": [
       "SVC(C=1.0, break_ties=False, cache_size=200, class_weight=None, coef0=0.0,\n",
       "    decision_function_shape='ovr', degree=3, gamma='scale', kernel='rbf',\n",
       "    max_iter=-1, probability=False, random_state=0, shrinking=True, tol=0.001,\n",
       "    verbose=False)"
      ]
     },
     "execution_count": 89,
     "metadata": {},
     "output_type": "execute_result"
    }
   ],
   "source": [
    "from sklearn.svm import SVC\n",
    "classifier = SVC(kernel = 'rbf', random_state = 0)\n",
    "classifier.fit(X_trainset, y_trainset)"
   ]
  },
  {
   "cell_type": "code",
   "execution_count": 90,
   "metadata": {},
   "outputs": [
    {
     "name": "stderr",
     "output_type": "stream",
     "text": [
      "/opt/conda/envs/Python36/lib/python3.6/site-packages/sklearn/utils/validation.py:760: DataConversionWarning: A column-vector y was passed when a 1d array was expected. Please change the shape of y to (n_samples, ), for example using ravel().\n",
      "  y = column_or_1d(y, warn=True)\n",
      "/opt/conda/envs/Python36/lib/python3.6/site-packages/sklearn/utils/validation.py:760: DataConversionWarning: A column-vector y was passed when a 1d array was expected. Please change the shape of y to (n_samples, ), for example using ravel().\n",
      "  y = column_or_1d(y, warn=True)\n",
      "/opt/conda/envs/Python36/lib/python3.6/site-packages/sklearn/utils/validation.py:760: DataConversionWarning: A column-vector y was passed when a 1d array was expected. Please change the shape of y to (n_samples, ), for example using ravel().\n",
      "  y = column_or_1d(y, warn=True)\n",
      "/opt/conda/envs/Python36/lib/python3.6/site-packages/sklearn/utils/validation.py:760: DataConversionWarning: A column-vector y was passed when a 1d array was expected. Please change the shape of y to (n_samples, ), for example using ravel().\n",
      "  y = column_or_1d(y, warn=True)\n",
      "/opt/conda/envs/Python36/lib/python3.6/site-packages/sklearn/utils/validation.py:760: DataConversionWarning: A column-vector y was passed when a 1d array was expected. Please change the shape of y to (n_samples, ), for example using ravel().\n",
      "  y = column_or_1d(y, warn=True)\n",
      "/opt/conda/envs/Python36/lib/python3.6/site-packages/sklearn/utils/validation.py:760: DataConversionWarning: A column-vector y was passed when a 1d array was expected. Please change the shape of y to (n_samples, ), for example using ravel().\n",
      "  y = column_or_1d(y, warn=True)\n",
      "/opt/conda/envs/Python36/lib/python3.6/site-packages/sklearn/utils/validation.py:760: DataConversionWarning: A column-vector y was passed when a 1d array was expected. Please change the shape of y to (n_samples, ), for example using ravel().\n",
      "  y = column_or_1d(y, warn=True)\n",
      "/opt/conda/envs/Python36/lib/python3.6/site-packages/sklearn/utils/validation.py:760: DataConversionWarning: A column-vector y was passed when a 1d array was expected. Please change the shape of y to (n_samples, ), for example using ravel().\n",
      "  y = column_or_1d(y, warn=True)\n",
      "/opt/conda/envs/Python36/lib/python3.6/site-packages/sklearn/utils/validation.py:760: DataConversionWarning: A column-vector y was passed when a 1d array was expected. Please change the shape of y to (n_samples, ), for example using ravel().\n",
      "  y = column_or_1d(y, warn=True)\n",
      "/opt/conda/envs/Python36/lib/python3.6/site-packages/sklearn/utils/validation.py:760: DataConversionWarning: A column-vector y was passed when a 1d array was expected. Please change the shape of y to (n_samples, ), for example using ravel().\n",
      "  y = column_or_1d(y, warn=True)\n"
     ]
    }
   ],
   "source": [
    "# Predicting the Test set results\n",
    "y_pred = classifier.predict(X_testset)\n",
    "\n",
    "# Making the Confusion Matrix\n",
    "from sklearn.metrics import confusion_matrix\n",
    "ksvm_cm = confusion_matrix(y_testset, y_pred)\n",
    "acuracy  = cross_val_score(estimator = classifier, X=X_trainset, y=y_trainset, cv = 10)\n",
    "ksvm_acuracy = acuracy.mean()\n",
    "ksvm_precision_score = precision_score(y_pred, y_testset)\n",
    "ksvm_recall_score = recall_score(y_pred, y_testset)\n",
    "ksvm_f1_score = f1_score(y_pred, y_testset)"
   ]
  },
  {
   "cell_type": "code",
   "execution_count": 91,
   "metadata": {},
   "outputs": [
    {
     "data": {
      "text/plain": [
       "array([[ 6,  5],\n",
       "       [ 1, 12]])"
      ]
     },
     "execution_count": 91,
     "metadata": {},
     "output_type": "execute_result"
    }
   ],
   "source": [
    "ksvm_cm"
   ]
  },
  {
   "cell_type": "code",
   "execution_count": 92,
   "metadata": {},
   "outputs": [
    {
     "name": "stdout",
     "output_type": "stream",
     "text": [
      "[[ 6  5]\n",
      " [ 1 12]]\n",
      "0.5454545454545454\n",
      "0.8571428571428571\n",
      "0.6666666666666665\n"
     ]
    }
   ],
   "source": [
    "print(ksvm_cm)\n",
    "print(ksvm_precision_score)\n",
    "print(ksvm_recall_score)\n",
    "print(ksvm_f1_score)"
   ]
  },
  {
   "cell_type": "code",
   "execution_count": 93,
   "metadata": {},
   "outputs": [
    {
     "name": "stdout",
     "output_type": "stream",
     "text": [
      "KSVM confusion matrix\n",
      "[[ 6  5]\n",
      " [ 1 12]]\n"
     ]
    },
    {
     "data": {
      "image/png": "[encoded data removed]",
      "text/plain": [
       "<Figure size 432x288 with 2 Axes>"
      ]
     },
     "metadata": {
      "needs_background": "light"
     },
     "output_type": "display_data"
    }
   ],
   "source": [
    "class_names = [\"Cancer\", \"Not cancer\"]\n",
    "title = \"KSVM confusion matrix\"\n",
    "disp = plot_confusion_matrix(classifier, X_testset, y_testset,\n",
    "                                 display_labels=class_names,\n",
    "                                 cmap=plt.cm.Blues)\n",
    "disp.ax_.set_title(title)\n",
    "\n",
    "print(title)\n",
    "print(disp.confusion_matrix)"
   ]
  },
  {
   "cell_type": "markdown",
   "metadata": {},
   "source": [
    "# Using Naive Bayes for classification"
   ]
  },
  {
   "cell_type": "code",
   "execution_count": 94,
   "metadata": {},
   "outputs": [
    {
     "name": "stderr",
     "output_type": "stream",
     "text": [
      "/opt/conda/envs/Python36/lib/python3.6/site-packages/sklearn/naive_bayes.py:206: DataConversionWarning: A column-vector y was passed when a 1d array was expected. Please change the shape of y to (n_samples, ), for example using ravel().\n",
      "  y = column_or_1d(y, warn=True)\n"
     ]
    },
    {
     "data": {
      "text/plain": [
       "GaussianNB(priors=None, var_smoothing=1e-09)"
      ]
     },
     "execution_count": 94,
     "metadata": {},
     "output_type": "execute_result"
    }
   ],
   "source": [
    "# Fitting Naive Bayes to the Training set\n",
    "from sklearn.naive_bayes import GaussianNB\n",
    "classifier = GaussianNB()\n",
    "classifier.fit(X_trainset, y_trainset)"
   ]
  },
  {
   "cell_type": "code",
   "execution_count": 95,
   "metadata": {},
   "outputs": [
    {
     "name": "stderr",
     "output_type": "stream",
     "text": [
      "/opt/conda/envs/Python36/lib/python3.6/site-packages/sklearn/naive_bayes.py:206: DataConversionWarning: A column-vector y was passed when a 1d array was expected. Please change the shape of y to (n_samples, ), for example using ravel().\n",
      "  y = column_or_1d(y, warn=True)\n",
      "/opt/conda/envs/Python36/lib/python3.6/site-packages/sklearn/naive_bayes.py:206: DataConversionWarning: A column-vector y was passed when a 1d array was expected. Please change the shape of y to (n_samples, ), for example using ravel().\n",
      "  y = column_or_1d(y, warn=True)\n",
      "/opt/conda/envs/Python36/lib/python3.6/site-packages/sklearn/naive_bayes.py:206: DataConversionWarning: A column-vector y was passed when a 1d array was expected. Please change the shape of y to (n_samples, ), for example using ravel().\n",
      "  y = column_or_1d(y, warn=True)\n",
      "/opt/conda/envs/Python36/lib/python3.6/site-packages/sklearn/naive_bayes.py:206: DataConversionWarning: A column-vector y was passed when a 1d array was expected. Please change the shape of y to (n_samples, ), for example using ravel().\n",
      "  y = column_or_1d(y, warn=True)\n",
      "/opt/conda/envs/Python36/lib/python3.6/site-packages/sklearn/naive_bayes.py:206: DataConversionWarning: A column-vector y was passed when a 1d array was expected. Please change the shape of y to (n_samples, ), for example using ravel().\n",
      "  y = column_or_1d(y, warn=True)\n",
      "/opt/conda/envs/Python36/lib/python3.6/site-packages/sklearn/naive_bayes.py:206: DataConversionWarning: A column-vector y was passed when a 1d array was expected. Please change the shape of y to (n_samples, ), for example using ravel().\n",
      "  y = column_or_1d(y, warn=True)\n",
      "/opt/conda/envs/Python36/lib/python3.6/site-packages/sklearn/naive_bayes.py:206: DataConversionWarning: A column-vector y was passed when a 1d array was expected. Please change the shape of y to (n_samples, ), for example using ravel().\n",
      "  y = column_or_1d(y, warn=True)\n",
      "/opt/conda/envs/Python36/lib/python3.6/site-packages/sklearn/naive_bayes.py:206: DataConversionWarning: A column-vector y was passed when a 1d array was expected. Please change the shape of y to (n_samples, ), for example using ravel().\n",
      "  y = column_or_1d(y, warn=True)\n",
      "/opt/conda/envs/Python36/lib/python3.6/site-packages/sklearn/naive_bayes.py:206: DataConversionWarning: A column-vector y was passed when a 1d array was expected. Please change the shape of y to (n_samples, ), for example using ravel().\n",
      "  y = column_or_1d(y, warn=True)\n",
      "/opt/conda/envs/Python36/lib/python3.6/site-packages/sklearn/naive_bayes.py:206: DataConversionWarning: A column-vector y was passed when a 1d array was expected. Please change the shape of y to (n_samples, ), for example using ravel().\n",
      "  y = column_or_1d(y, warn=True)\n"
     ]
    }
   ],
   "source": [
    "\n",
    "# Predicting the Test set results\n",
    "y_pred = classifier.predict(X_testset)\n",
    "\n",
    "# Making the Confusion Matrix\n",
    "from sklearn.metrics import confusion_matrix\n",
    "naive_base_cm = confusion_matrix(y_testset, y_pred)\n",
    "acuracy  = cross_val_score(estimator = classifier, X=X_trainset, y=y_trainset, cv = 10)\n",
    "naive_bayes_acuracy = acuracy.mean()\n",
    "naive_bayes_precision_score = precision_score(y_pred, y_testset)\n",
    "naive_bayes_recall_score = recall_score(y_pred, y_testset)\n",
    "naive_bayes_f1_score = f1_score(y_pred, y_testset)"
   ]
  },
  {
   "cell_type": "code",
   "execution_count": 96,
   "metadata": {},
   "outputs": [
    {
     "data": {
      "text/plain": [
       "array([[9, 2],\n",
       "       [4, 9]])"
      ]
     },
     "execution_count": 96,
     "metadata": {},
     "output_type": "execute_result"
    }
   ],
   "source": [
    "naive_base_cm"
   ]
  },
  {
   "cell_type": "code",
   "execution_count": 97,
   "metadata": {},
   "outputs": [
    {
     "name": "stdout",
     "output_type": "stream",
     "text": [
      "0.8181818181818182\n",
      "0.6923076923076923\n",
      "0.7500000000000001\n"
     ]
    }
   ],
   "source": [
    "print(naive_bayes_precision_score)\n",
    "print(naive_bayes_recall_score)\n",
    "print(naive_bayes_f1_score)"
   ]
  },
  {
   "cell_type": "code",
   "execution_count": 98,
   "metadata": {},
   "outputs": [
    {
     "name": "stdout",
     "output_type": "stream",
     "text": [
      "Naive Bayes confusion matrix\n",
      "[[9 2]\n",
      " [4 9]]\n"
     ]
    },
    {
     "data": {
      "image/png": "[encoded data removed]",
      "text/plain": [
       "<Figure size 432x288 with 2 Axes>"
      ]
     },
     "metadata": {
      "needs_background": "light"
     },
     "output_type": "display_data"
    }
   ],
   "source": [
    "class_names = [\"Cancer\", \"Not cancer\"]\n",
    "title = \"Naive Bayes confusion matrix\"\n",
    "disp = plot_confusion_matrix(classifier, X_testset, y_testset,\n",
    "                                 display_labels=class_names,\n",
    "                                 cmap=plt.cm.Blues)\n",
    "disp.ax_.set_title(title)\n",
    "\n",
    "print(title)\n",
    "print(disp.confusion_matrix)"
   ]
  },
  {
   "cell_type": "markdown",
   "metadata": {},
   "source": [
    "# Using Decission Tree classification\n"
   ]
  },
  {
   "cell_type": "code",
   "execution_count": 99,
   "metadata": {},
   "outputs": [
    {
     "data": {
      "text/plain": [
       "DecisionTreeClassifier(ccp_alpha=0.0, class_weight=None, criterion='entropy',\n",
       "                       max_depth=None, max_features=None, max_leaf_nodes=None,\n",
       "                       min_impurity_decrease=0.0, min_impurity_split=None,\n",
       "                       min_samples_leaf=1, min_samples_split=2,\n",
       "                       min_weight_fraction_leaf=0.0, presort='deprecated',\n",
       "                       random_state=0, splitter='best')"
      ]
     },
     "execution_count": 99,
     "metadata": {},
     "output_type": "execute_result"
    }
   ],
   "source": [
    "# Fitting Decision Tree Classification to the Training set\n",
    "from sklearn.tree import DecisionTreeClassifier\n",
    "classifier = DecisionTreeClassifier(criterion = 'entropy', random_state = 0)\n",
    "classifier.fit(X_trainset, y_trainset)"
   ]
  },
  {
   "cell_type": "code",
   "execution_count": 100,
   "metadata": {},
   "outputs": [],
   "source": [
    "# Predicting the Test set results\n",
    "y_pred = classifier.predict(X_testset)\n",
    "\n",
    "# Making the Confusion Matrix\n",
    "from sklearn.metrics import confusion_matrix\n",
    "tre_cm = confusion_matrix(y_testset, y_pred)\n",
    "acuracy  = cross_val_score(estimator = classifier, X=X_trainset, y=y_trainset, cv = 10)\n",
    "tree_acuracy = acuracy.mean()\n",
    "tree_precision_score = precision_score(y_pred, y_testset)\n",
    "tree_recall_score = recall_score(y_pred, y_testset)\n",
    "tree_f1_score = f1_score(y_pred, y_testset)"
   ]
  },
  {
   "cell_type": "code",
   "execution_count": 101,
   "metadata": {},
   "outputs": [
    {
     "data": {
      "text/plain": [
       "array([[ 8,  3],\n",
       "       [ 2, 11]])"
      ]
     },
     "execution_count": 101,
     "metadata": {},
     "output_type": "execute_result"
    }
   ],
   "source": [
    "tre_cm"
   ]
  },
  {
   "cell_type": "code",
   "execution_count": 102,
   "metadata": {},
   "outputs": [
    {
     "name": "stdout",
     "output_type": "stream",
     "text": [
      "0.7272727272727273\n",
      "0.8\n",
      "0.761904761904762\n"
     ]
    }
   ],
   "source": [
    "print(tree_precision_score)\n",
    "print(tree_recall_score)\n",
    "print(tree_f1_score)"
   ]
  },
  {
   "cell_type": "code",
   "execution_count": 103,
   "metadata": {},
   "outputs": [
    {
     "name": "stdout",
     "output_type": "stream",
     "text": [
      "Decission Tree confusion matrix\n",
      "[[ 8  3]\n",
      " [ 2 11]]\n"
     ]
    },
    {
     "data": {
      "image/png": "[encoded data removed]",
      "text/plain": [
       "<Figure size 432x288 with 2 Axes>"
      ]
     },
     "metadata": {
      "needs_background": "light"
     },
     "output_type": "display_data"
    }
   ],
   "source": [
    "class_names = [\"Cancer\", \"Not cancer\"]\n",
    "title = \"Decission Tree confusion matrix\"\n",
    "disp = plot_confusion_matrix(classifier, X_testset, y_testset,\n",
    "                                 display_labels=class_names,\n",
    "                                 cmap=plt.cm.Blues)\n",
    "disp.ax_.set_title(title)\n",
    "\n",
    "print(title)\n",
    "print(disp.confusion_matrix)"
   ]
  },
  {
   "cell_type": "markdown",
   "metadata": {},
   "source": [
    "# Using Random Forest Classification"
   ]
  },
  {
   "cell_type": "code",
   "execution_count": 104,
   "metadata": {},
   "outputs": [
    {
     "name": "stderr",
     "output_type": "stream",
     "text": [
      "/opt/conda/envs/Python36/lib/python3.6/site-packages/ipykernel/__main__.py:4: DataConversionWarning: A column-vector y was passed when a 1d array was expected. Please change the shape of y to (n_samples,), for example using ravel().\n"
     ]
    },
    {
     "data": {
      "text/plain": [
       "RandomForestClassifier(bootstrap=True, ccp_alpha=0.0, class_weight=None,\n",
       "                       criterion='entropy', max_depth=None, max_features='auto',\n",
       "                       max_leaf_nodes=None, max_samples=None,\n",
       "                       min_impurity_decrease=0.0, min_impurity_split=None,\n",
       "                       min_samples_leaf=1, min_samples_split=2,\n",
       "                       min_weight_fraction_leaf=0.0, n_estimators=10,\n",
       "                       n_jobs=None, oob_score=False, random_state=0, verbose=0,\n",
       "                       warm_start=False)"
      ]
     },
     "execution_count": 104,
     "metadata": {},
     "output_type": "execute_result"
    }
   ],
   "source": [
    "# Fitting Random Forest Classification to the Training set\n",
    "from sklearn.ensemble import RandomForestClassifier\n",
    "classifier = RandomForestClassifier(n_estimators = 10, criterion = 'entropy', random_state = 0)\n",
    "classifier.fit(X_trainset, y_trainset)"
   ]
  },
  {
   "cell_type": "code",
   "execution_count": 105,
   "metadata": {},
   "outputs": [
    {
     "name": "stderr",
     "output_type": "stream",
     "text": [
      "/opt/conda/envs/Python36/lib/python3.6/site-packages/sklearn/model_selection/_validation.py:515: DataConversionWarning: A column-vector y was passed when a 1d array was expected. Please change the shape of y to (n_samples,), for example using ravel().\n",
      "  estimator.fit(X_train, y_train, **fit_params)\n",
      "/opt/conda/envs/Python36/lib/python3.6/site-packages/sklearn/model_selection/_validation.py:515: DataConversionWarning: A column-vector y was passed when a 1d array was expected. Please change the shape of y to (n_samples,), for example using ravel().\n",
      "  estimator.fit(X_train, y_train, **fit_params)\n",
      "/opt/conda/envs/Python36/lib/python3.6/site-packages/sklearn/model_selection/_validation.py:515: DataConversionWarning: A column-vector y was passed when a 1d array was expected. Please change the shape of y to (n_samples,), for example using ravel().\n",
      "  estimator.fit(X_train, y_train, **fit_params)\n",
      "/opt/conda/envs/Python36/lib/python3.6/site-packages/sklearn/model_selection/_validation.py:515: DataConversionWarning: A column-vector y was passed when a 1d array was expected. Please change the shape of y to (n_samples,), for example using ravel().\n",
      "  estimator.fit(X_train, y_train, **fit_params)\n",
      "/opt/conda/envs/Python36/lib/python3.6/site-packages/sklearn/model_selection/_validation.py:515: DataConversionWarning: A column-vector y was passed when a 1d array was expected. Please change the shape of y to (n_samples,), for example using ravel().\n",
      "  estimator.fit(X_train, y_train, **fit_params)\n",
      "/opt/conda/envs/Python36/lib/python3.6/site-packages/sklearn/model_selection/_validation.py:515: DataConversionWarning: A column-vector y was passed when a 1d array was expected. Please change the shape of y to (n_samples,), for example using ravel().\n",
      "  estimator.fit(X_train, y_train, **fit_params)\n",
      "/opt/conda/envs/Python36/lib/python3.6/site-packages/sklearn/model_selection/_validation.py:515: DataConversionWarning: A column-vector y was passed when a 1d array was expected. Please change the shape of y to (n_samples,), for example using ravel().\n",
      "  estimator.fit(X_train, y_train, **fit_params)\n",
      "/opt/conda/envs/Python36/lib/python3.6/site-packages/sklearn/model_selection/_validation.py:515: DataConversionWarning: A column-vector y was passed when a 1d array was expected. Please change the shape of y to (n_samples,), for example using ravel().\n",
      "  estimator.fit(X_train, y_train, **fit_params)\n",
      "/opt/conda/envs/Python36/lib/python3.6/site-packages/sklearn/model_selection/_validation.py:515: DataConversionWarning: A column-vector y was passed when a 1d array was expected. Please change the shape of y to (n_samples,), for example using ravel().\n",
      "  estimator.fit(X_train, y_train, **fit_params)\n",
      "/opt/conda/envs/Python36/lib/python3.6/site-packages/sklearn/model_selection/_validation.py:515: DataConversionWarning: A column-vector y was passed when a 1d array was expected. Please change the shape of y to (n_samples,), for example using ravel().\n",
      "  estimator.fit(X_train, y_train, **fit_params)\n"
     ]
    }
   ],
   "source": [
    "# Predicting the Test set results\n",
    "y_pred = classifier.predict(X_testset)\n",
    "\n",
    "# Making the Confusion Matrix\n",
    "from sklearn.metrics import confusion_matrix\n",
    "random_tree_cm = confusion_matrix(y_testset, y_pred)\n",
    "acuracy  = cross_val_score(estimator = classifier, X=X_trainset, y=y_trainset, cv = 10)\n",
    "random_tree_acuracy = acuracy.mean()\n",
    "random_tree_precision_score = precision_score(y_pred, y_testset)\n",
    "random_tree_recall_score = recall_score(y_pred, y_testset)\n",
    "random_tree_f1_score = f1_score(y_pred, y_testset)"
   ]
  },
  {
   "cell_type": "code",
   "execution_count": 106,
   "metadata": {},
   "outputs": [
    {
     "data": {
      "text/plain": [
       "array([[ 8,  3],\n",
       "       [ 2, 11]])"
      ]
     },
     "execution_count": 106,
     "metadata": {},
     "output_type": "execute_result"
    }
   ],
   "source": [
    "random_tree_cm"
   ]
  },
  {
   "cell_type": "code",
   "execution_count": 107,
   "metadata": {},
   "outputs": [
    {
     "name": "stdout",
     "output_type": "stream",
     "text": [
      "0.7272727272727273\n",
      "0.8\n",
      "0.761904761904762\n"
     ]
    }
   ],
   "source": [
    "print(random_tree_precision_score)\n",
    "print(random_tree_recall_score)\n",
    "print(random_tree_f1_score)"
   ]
  },
  {
   "cell_type": "code",
   "execution_count": 108,
   "metadata": {},
   "outputs": [
    {
     "name": "stdout",
     "output_type": "stream",
     "text": [
      "Random Tree confusion matrix\n",
      "[[ 8  3]\n",
      " [ 2 11]]\n"
     ]
    },
    {
     "data": {
      "image/png": "[encoded data removed]",
      "text/plain": [
       "<Figure size 432x288 with 2 Axes>"
      ]
     },
     "metadata": {
      "needs_background": "light"
     },
     "output_type": "display_data"
    }
   ],
   "source": [
    "class_names = [\"Cancer\", \"Not cancer\"]\n",
    "title = \"Random Tree confusion matrix\"\n",
    "disp = plot_confusion_matrix(classifier, X_testset, y_testset,\n",
    "                                 display_labels=class_names,\n",
    "                                 cmap=plt.cm.Blues)\n",
    "disp.ax_.set_title(title)\n",
    "\n",
    "print(title)\n",
    "print(disp.confusion_matrix)"
   ]
  },
  {
   "cell_type": "markdown",
   "metadata": {},
   "source": [
    "# Logistic Regression classification"
   ]
  },
  {
   "cell_type": "code",
   "execution_count": 109,
   "metadata": {},
   "outputs": [
    {
     "name": "stderr",
     "output_type": "stream",
     "text": [
      "/opt/conda/envs/Python36/lib/python3.6/site-packages/sklearn/utils/validation.py:760: DataConversionWarning: A column-vector y was passed when a 1d array was expected. Please change the shape of y to (n_samples, ), for example using ravel().\n",
      "  y = column_or_1d(y, warn=True)\n"
     ]
    },
    {
     "data": {
      "text/plain": [
       "LogisticRegression(C=1.0, class_weight=None, dual=False, fit_intercept=True,\n",
       "                   intercept_scaling=1, l1_ratio=None, max_iter=100,\n",
       "                   multi_class='auto', n_jobs=None, penalty='l2',\n",
       "                   random_state=0, solver='lbfgs', tol=0.0001, verbose=0,\n",
       "                   warm_start=False)"
      ]
     },
     "execution_count": 109,
     "metadata": {},
     "output_type": "execute_result"
    }
   ],
   "source": [
    "# Fitting Logistic Regression to the Training set\n",
    "from sklearn.linear_model import LogisticRegression\n",
    "classifier = LogisticRegression(random_state = 0)\n",
    "classifier.fit(X_trainset, y_trainset)"
   ]
  },
  {
   "cell_type": "code",
   "execution_count": 110,
   "metadata": {},
   "outputs": [
    {
     "name": "stderr",
     "output_type": "stream",
     "text": [
      "/opt/conda/envs/Python36/lib/python3.6/site-packages/sklearn/utils/validation.py:760: DataConversionWarning: A column-vector y was passed when a 1d array was expected. Please change the shape of y to (n_samples, ), for example using ravel().\n",
      "  y = column_or_1d(y, warn=True)\n",
      "/opt/conda/envs/Python36/lib/python3.6/site-packages/sklearn/utils/validation.py:760: DataConversionWarning: A column-vector y was passed when a 1d array was expected. Please change the shape of y to (n_samples, ), for example using ravel().\n",
      "  y = column_or_1d(y, warn=True)\n",
      "/opt/conda/envs/Python36/lib/python3.6/site-packages/sklearn/utils/validation.py:760: DataConversionWarning: A column-vector y was passed when a 1d array was expected. Please change the shape of y to (n_samples, ), for example using ravel().\n",
      "  y = column_or_1d(y, warn=True)\n",
      "/opt/conda/envs/Python36/lib/python3.6/site-packages/sklearn/utils/validation.py:760: DataConversionWarning: A column-vector y was passed when a 1d array was expected. Please change the shape of y to (n_samples, ), for example using ravel().\n",
      "  y = column_or_1d(y, warn=True)\n",
      "/opt/conda/envs/Python36/lib/python3.6/site-packages/sklearn/utils/validation.py:760: DataConversionWarning: A column-vector y was passed when a 1d array was expected. Please change the shape of y to (n_samples, ), for example using ravel().\n",
      "  y = column_or_1d(y, warn=True)\n",
      "/opt/conda/envs/Python36/lib/python3.6/site-packages/sklearn/utils/validation.py:760: DataConversionWarning: A column-vector y was passed when a 1d array was expected. Please change the shape of y to (n_samples, ), for example using ravel().\n",
      "  y = column_or_1d(y, warn=True)\n",
      "/opt/conda/envs/Python36/lib/python3.6/site-packages/sklearn/utils/validation.py:760: DataConversionWarning: A column-vector y was passed when a 1d array was expected. Please change the shape of y to (n_samples, ), for example using ravel().\n",
      "  y = column_or_1d(y, warn=True)\n",
      "/opt/conda/envs/Python36/lib/python3.6/site-packages/sklearn/utils/validation.py:760: DataConversionWarning: A column-vector y was passed when a 1d array was expected. Please change the shape of y to (n_samples, ), for example using ravel().\n",
      "  y = column_or_1d(y, warn=True)\n",
      "/opt/conda/envs/Python36/lib/python3.6/site-packages/sklearn/utils/validation.py:760: DataConversionWarning: A column-vector y was passed when a 1d array was expected. Please change the shape of y to (n_samples, ), for example using ravel().\n",
      "  y = column_or_1d(y, warn=True)\n",
      "/opt/conda/envs/Python36/lib/python3.6/site-packages/sklearn/utils/validation.py:760: DataConversionWarning: A column-vector y was passed when a 1d array was expected. Please change the shape of y to (n_samples, ), for example using ravel().\n",
      "  y = column_or_1d(y, warn=True)\n"
     ]
    }
   ],
   "source": [
    "# Predicting the Test set results\n",
    "y_pred = classifier.predict(X_testset)\n",
    "\n",
    "# Making the Confusion Matrix\n",
    "from sklearn.metrics import confusion_matrix\n",
    "logistic_cm = confusion_matrix(y_testset, y_pred)\n",
    "acuracy  = cross_val_score(estimator = classifier, X=X_trainset, y=y_trainset, cv = 10)\n",
    "logistic_acuracy = acuracy.mean()\n",
    "logistic_precision_score = precision_score(y_pred, y_testset)\n",
    "logistic_recall_score = recall_score(y_pred, y_testset)\n",
    "logistic_f1_score = f1_score(y_pred, y_testset)"
   ]
  },
  {
   "cell_type": "code",
   "execution_count": 111,
   "metadata": {},
   "outputs": [
    {
     "data": {
      "text/plain": [
       "array([[ 4,  7],\n",
       "       [ 2, 11]])"
      ]
     },
     "execution_count": 111,
     "metadata": {},
     "output_type": "execute_result"
    }
   ],
   "source": [
    "logistic_cm"
   ]
  },
  {
   "cell_type": "code",
   "execution_count": 112,
   "metadata": {},
   "outputs": [
    {
     "name": "stdout",
     "output_type": "stream",
     "text": [
      "0.36363636363636365\n",
      "0.6666666666666666\n",
      "0.4705882352941177\n"
     ]
    }
   ],
   "source": [
    "print(logistic_precision_score)\n",
    "print(logistic_recall_score)\n",
    "print(logistic_f1_score)"
   ]
  },
  {
   "cell_type": "code",
   "execution_count": 113,
   "metadata": {},
   "outputs": [
    {
     "name": "stdout",
     "output_type": "stream",
     "text": [
      "Logistic Regression confusion matrix\n",
      "[[ 4  7]\n",
      " [ 2 11]]\n"
     ]
    },
    {
     "data": {
      "image/png": "[encoded data removed]",
      "text/plain": [
       "<Figure size 432x288 with 2 Axes>"
      ]
     },
     "metadata": {
      "needs_background": "light"
     },
     "output_type": "display_data"
    }
   ],
   "source": [
    "class_names = [\"Cancer\", \"Not cancer\"]\n",
    "title = \"Logistic Regression confusion matrix\"\n",
    "disp = plot_confusion_matrix(classifier, X_testset, y_testset,\n",
    "                                 display_labels=class_names,\n",
    "                                 cmap=plt.cm.Blues)\n",
    "disp.ax_.set_title(title)\n",
    "\n",
    "print(title)\n",
    "print(disp.confusion_matrix)"
   ]
  },
  {
   "cell_type": "markdown",
   "metadata": {},
   "source": [
    "# XGBoost classifier"
   ]
  },
  {
   "cell_type": "code",
   "execution_count": 114,
   "metadata": {},
   "outputs": [],
   "source": [
    "#pip install xgboost\n"
   ]
  },
  {
   "cell_type": "code",
   "execution_count": 115,
   "metadata": {},
   "outputs": [
    {
     "name": "stderr",
     "output_type": "stream",
     "text": [
      "/opt/conda/envs/Python36/lib/python3.6/site-packages/sklearn/preprocessing/_label.py:235: DataConversionWarning: A column-vector y was passed when a 1d array was expected. Please change the shape of y to (n_samples, ), for example using ravel().\n",
      "  y = column_or_1d(y, warn=True)\n",
      "/opt/conda/envs/Python36/lib/python3.6/site-packages/sklearn/preprocessing/_label.py:268: DataConversionWarning: A column-vector y was passed when a 1d array was expected. Please change the shape of y to (n_samples, ), for example using ravel().\n",
      "  y = column_or_1d(y, warn=True)\n",
      "/opt/conda/envs/Python36/lib/python3.6/site-packages/sklearn/preprocessing/_label.py:235: DataConversionWarning: A column-vector y was passed when a 1d array was expected. Please change the shape of y to (n_samples, ), for example using ravel().\n",
      "  y = column_or_1d(y, warn=True)\n",
      "/opt/conda/envs/Python36/lib/python3.6/site-packages/sklearn/preprocessing/_label.py:268: DataConversionWarning: A column-vector y was passed when a 1d array was expected. Please change the shape of y to (n_samples, ), for example using ravel().\n",
      "  y = column_or_1d(y, warn=True)\n"
     ]
    }
   ],
   "source": [
    "from xgboost import XGBClassifier\n",
    "classifier = XGBClassifier()\n",
    "classifier.fit(X_trainset, y_trainset)\n",
    "y_pred = classifier.predict(X_testset)\n",
    "xgboost_cm = confusion_matrix(y_testset, y_pred)\n",
    "acuracy  = cross_val_score(estimator = classifier, X=X_trainset, y=y_trainset, cv = 10)\n",
    "xgboost_acuracy = acuracy.mean()\n",
    "xgboost_precision_score = precision_score(y_pred, y_testset)\n",
    "xgboost_recall_score = recall_score(y_pred, y_testset)\n",
    "xgboost_f1_score = f1_score(y_pred, y_testset)"
   ]
  },
  {
   "cell_type": "code",
   "execution_count": 116,
   "metadata": {},
   "outputs": [
    {
     "data": {
      "text/plain": [
       "array([[ 7,  4],\n",
       "       [ 2, 11]])"
      ]
     },
     "execution_count": 116,
     "metadata": {},
     "output_type": "execute_result"
    }
   ],
   "source": [
    "xgboost_cm"
   ]
  },
  {
   "cell_type": "code",
   "execution_count": 117,
   "metadata": {},
   "outputs": [
    {
     "name": "stdout",
     "output_type": "stream",
     "text": [
      "0.6363636363636364\n",
      "0.7777777777777778\n",
      "0.7000000000000001\n"
     ]
    }
   ],
   "source": [
    "print(xgboost_precision_score)\n",
    "print(xgboost_recall_score)\n",
    "print(xgboost_f1_score)"
   ]
  },
  {
   "cell_type": "code",
   "execution_count": 118,
   "metadata": {},
   "outputs": [
    {
     "name": "stdout",
     "output_type": "stream",
     "text": [
      "XGBoost confusion matrix\n",
      "[[ 7  4]\n",
      " [ 2 11]]\n"
     ]
    },
    {
     "data": {
      "image/png": "[encoded data removed]",
      "text/plain": [
       "<Figure size 432x288 with 2 Axes>"
      ]
     },
     "metadata": {
      "needs_background": "light"
     },
     "output_type": "display_data"
    }
   ],
   "source": [
    "class_names = [\"Cancer\", \"Not cancer\"]\n",
    "title = \"XGBoost confusion matrix\"\n",
    "disp = plot_confusion_matrix(classifier, X_testset, y_testset,\n",
    "                                 display_labels=class_names,\n",
    "                                 cmap=plt.cm.Blues)\n",
    "disp.ax_.set_title(title)\n",
    "\n",
    "print(title)\n",
    "print(disp.confusion_matrix)"
   ]
  },
  {
   "cell_type": "markdown",
   "metadata": {},
   "source": [
    "# Output all algorithms acuracy means"
   ]
  },
  {
   "cell_type": "code",
   "execution_count": 119,
   "metadata": {},
   "outputs": [
    {
     "name": "stdout",
     "output_type": "stream",
     "text": [
      "knn_acuracy: 0.75\n",
      "svm_acuracy: 0.6988888888888889\n",
      "ksvm_acuracy: 0.7066666666666667\n",
      "naive_bayes_acuracy: 0.7266666666666667\n",
      "tree_acuracy: 0.6866666666666668\n",
      "random_tree_acuracy: 0.6866666666666666\n",
      "logistic_acuracy: 0.6777777777777778\n",
      "xgboost_cm: 0.6966666666666667\n"
     ]
    }
   ],
   "source": [
    "print(\"knn_acuracy: \" + str(knn_acuracy) )\n",
    "print(\"svm_acuracy: \" + str(svm_acuracy) )\n",
    "print(\"ksvm_acuracy: \" + str(ksvm_acuracy) )\n",
    "print(\"naive_bayes_acuracy: \" + str(naive_bayes_acuracy) )\n",
    "print(\"tree_acuracy: \" + str(tree_acuracy) )\n",
    "print(\"random_tree_acuracy: \" + str(random_tree_acuracy) )\n",
    "print(\"logistic_acuracy: \" + str(logistic_acuracy) )\n",
    "print(\"xgboost_cm: \" + str(xgboost_acuracy) )\n"
   ]
  },
  {
   "cell_type": "code",
   "execution_count": 121,
   "metadata": {},
   "outputs": [
    {
     "data": {
      "image/png": "[encoded data removed]",
      "text/plain": [
       "<Figure size 640x480 with 1 Axes>"
      ]
     },
     "metadata": {},
     "output_type": "display_data"
    }
   ],
   "source": [
    "import matplotlib.pyplot as plt\n",
    "plt.rcdefaults()\n",
    "fig, ax = plt.subplots()\n",
    "classificators = (\"KNN\", \"SVM\", \"KSVM\", \"Naive Bayes\", \"Dessicion Tree\", \"Random Forest\", \"Logistic Regression\", \"XGBoost\")\n",
    "arr_acuracy = [knn_acuracy * 100, svm_acuracy * 100, ksvm_acuracy * 100, naive_bayes_acuracy * 100, tree_acuracy * 100, random_tree_acuracy * 100, logistic_acuracy * 100, xgboost_acuracy * 100];\n",
    "y_pos = np.arange(len(classificators))\n",
    "ax.set_xlim([0,100])\n",
    "ax.barh(y_pos, arr_acuracy,  align='center')\n",
    "ax.set_yticks(y_pos)\n",
    "ax.set_yticklabels(classificators)\n",
    "ax.invert_yaxis()  # labels read top-to-bottom\n",
    "ax.set_xlabel('Accuracy')\n",
    "ax.set_title('Classification models average accuracy given Breast cancer dataset')\n",
    "\n",
    "plt.show()"
   ]
  },
  {
   "cell_type": "markdown",
   "metadata": {},
   "source": [
    "# Conclussion"
   ]
  },
  {
   "cell_type": "markdown",
   "metadata": {},
   "source": [
    "As we can see KNN is the best choose for taken preddict Breast cancer with given dataset. If we will have biger dataset of course our prediction precission will be much higher."
   ]
  },
  {
   "cell_type": "code",
   "execution_count": null,
   "metadata": {},
   "outputs": [],
   "source": []
  }
 ],
 "metadata": {
  "kernelspec": {
   "display_name": "Python 3.6",
   "language": "python",
   "name": "python3"
  },
  "language_info": {
   "codemirror_mode": {
    "name": "ipython",
    "version": 3
   },
   "file_extension": ".py",
   "mimetype": "text/x-python",
   "name": "python",
   "nbconvert_exporter": "python",
   "pygments_lexer": "ipython3",
   "version": "3.6.9"
  }
 },
 "nbformat": 4,
 "nbformat_minor": 1
}
